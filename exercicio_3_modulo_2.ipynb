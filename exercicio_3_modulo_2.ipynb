{
  "nbformat": 4,
  "nbformat_minor": 0,
  "metadata": {
    "colab": {
      "provenance": [],
      "authorship_tag": "ABX9TyM06rKe9XAQy+WnY2l45C/P",
      "include_colab_link": true
    },
    "kernelspec": {
      "name": "python3",
      "display_name": "Python 3"
    },
    "language_info": {
      "name": "python"
    }
  },
  "cells": [
    {
      "cell_type": "markdown",
      "metadata": {
        "id": "view-in-github",
        "colab_type": "text"
      },
      "source": [
        "<a href=\"https://colab.research.google.com/github/DiBevilacqua/DiBevilacqua/blob/main/exercicio_3_modulo_2.ipynb\" target=\"_parent\"><img src=\"https://colab.research.google.com/assets/colab-badge.svg\" alt=\"Open In Colab\"/></a>"
      ]
    },
    {
      "cell_type": "markdown",
      "source": [
        "Neste momento, repita o passo a passo de criação da lista feita anteriormente: uma lista chamada filmescom o nome dos 10 primeiros filmes mais bem avaliados no site no IMDB.\n",
        "\n",
        "\n",
        "Adicione mais informações a essa estrutura de dados com o ano e a sinopse de cada filme.\n",
        "\n",
        "Os elementos da lista de filmes devem ser dicionários no seguinte formato:\n",
        "{ 'nome' : <nome-do-filme>, 'ano' : <ano do filme>, 'sinopse' : <sinopse do filme>}"
      ],
      "metadata": {
        "id": "h-Mr9bLo7Vqg"
      }
    },
    {
      "cell_type": "code",
      "execution_count": 8,
      "metadata": {
        "colab": {
          "base_uri": "https://localhost:8080/"
        },
        "id": "vEw2LZuJNOWf",
        "outputId": "f976cbfd-6b1a-4872-9c93-a8037fd8ad78"
      },
      "outputs": [
        {
          "output_type": "stream",
          "name": "stdout",
          "text": [
            "[{'nome': 'Um Sonho de Liberdade', 'ano': 1994, 'sinopse': 'Dois prisioneiros formam uma amizade improvável enquanto cumprem pena em uma prisão do Maine, ao longo de duas décadas.'}, {'nome': 'O Poderoso Chefão', 'ano': 1972, 'sinopse': 'Um poderoso chefão da máfia tenta transferir o controle de seu império clandestino para seu filho relutante.'}, {'nome': 'O Poderoso Chefão: Parte II', 'ano': 1974, 'sinopse': 'A saga da família Corleone continua, mostrando a ascensão do jovem Vito e os esforços de seu filho Michael para expandir o império da família.'}, {'nome': 'O Cavaleiro das Trevas', 'ano': 2008, 'sinopse': 'Batman enfrenta seu maior desafio quando o Coringa provoca o caos em Gotham City e força o Cavaleiro das Trevas a cruzar a linha entre o herói e o vigilante.'}, {'nome': '12 Homens e uma Sentença', 'ano': 1957, 'sinopse': 'Doze jurados devem deliberar sobre o veredicto de um caso de assassinato, com a vida de um jovem em jogo, enquanto um deles luta contra suas próprias dúvidas pessoais.'}, {'nome': 'A Lista de Schindler', 'ano': 1993, 'sinopse': 'Um empresário alemão salva a vida de mais de mil judeus durante o Holocausto ao empregá-los em sua fábrica durante a Segunda Guerra Mundial.'}, {'nome': 'O Senhor dos Anéis: O Retorno do Rei', 'ano': 2003, 'sinopse': 'A Sociedade do Anel se prepara para a batalha final enquanto Frodo e Sam se aproximam de Mordor com a missão de destruir o Um Anel.'}, {'nome': 'Pulp Fiction: Tempo de Violência', 'ano': 1994, 'sinopse': 'Diversas histórias interligadas se desenrolam em Los Angeles, incluindo dois assassinos profissionais, um boxeador em decadência e um casal que enfrenta uma situação de roubo de restaurante.'}, {'nome': 'O Bom, o Mau e o Vilão', 'ano': 1966, 'sinopse': 'Três pistoleiros rivais procuram um tesouro enterrado durante a Guerra Civil Americana.'}, {'nome': 'Clube da Luta', 'ano': 1999, 'sinopse': 'Um homem descontente e um vendedor de sabão enigmático formam um clube de luta subterrâneo que evolui para algo muito mais sinistro.'}]\n"
          ]
        }
      ],
      "source": [
        "\n",
        "filmes = [\n",
        "    {\n",
        "        \"nome\": \"Um Sonho de Liberdade\",\n",
        "        \"ano\": 1994,\n",
        "        \"sinopse\": \"Dois prisioneiros formam uma amizade improvável enquanto cumprem pena em uma prisão do Maine, ao longo de duas décadas.\"\n",
        "    },\n",
        "    {\n",
        "        \"nome\": \"O Poderoso Chefão\",\n",
        "        \"ano\": 1972,\n",
        "        \"sinopse\": \"Um poderoso chefão da máfia tenta transferir o controle de seu império clandestino para seu filho relutante.\"\n",
        "    },\n",
        "    {\n",
        "        \"nome\": \"O Poderoso Chefão: Parte II\",\n",
        "        \"ano\": 1974,\n",
        "        \"sinopse\": \"A saga da família Corleone continua, mostrando a ascensão do jovem Vito e os esforços de seu filho Michael para expandir o império da família.\"\n",
        "    },\n",
        "    {\n",
        "        \"nome\": \"O Cavaleiro das Trevas\",\n",
        "        \"ano\": 2008,\n",
        "        \"sinopse\": \"Batman enfrenta seu maior desafio quando o Coringa provoca o caos em Gotham City e força o Cavaleiro das Trevas a cruzar a linha entre o herói e o vigilante.\"\n",
        "    },\n",
        "    {\n",
        "        \"nome\": \"12 Homens e uma Sentença\",\n",
        "        \"ano\": 1957,\n",
        "        \"sinopse\": \"Doze jurados devem deliberar sobre o veredicto de um caso de assassinato, com a vida de um jovem em jogo, enquanto um deles luta contra suas próprias dúvidas pessoais.\"\n",
        "    },\n",
        "    {\n",
        "        \"nome\": \"A Lista de Schindler\",\n",
        "        \"ano\": 1993,\n",
        "        \"sinopse\": \"Um empresário alemão salva a vida de mais de mil judeus durante o Holocausto ao empregá-los em sua fábrica durante a Segunda Guerra Mundial.\"\n",
        "    },\n",
        "    {\n",
        "        \"nome\": \"O Senhor dos Anéis: O Retorno do Rei\",\n",
        "        \"ano\": 2003,\n",
        "        \"sinopse\": \"A Sociedade do Anel se prepara para a batalha final enquanto Frodo e Sam se aproximam de Mordor com a missão de destruir o Um Anel.\"\n",
        "    },\n",
        "    {\n",
        "        \"nome\": \"Pulp Fiction: Tempo de Violência\",\n",
        "        \"ano\": 1994,\n",
        "        \"sinopse\": \"Diversas histórias interligadas se desenrolam em Los Angeles, incluindo dois assassinos profissionais, um boxeador em decadência e um casal que enfrenta uma situação de roubo de restaurante.\"\n",
        "    },\n",
        "    {\n",
        "        \"nome\": \"O Bom, o Mau e o Vilão\",\n",
        "        \"ano\": 1966,\n",
        "        \"sinopse\": \"Três pistoleiros rivais procuram um tesouro enterrado durante a Guerra Civil Americana.\"\n",
        "    },\n",
        "    {\n",
        "        \"nome\": \"Clube da Luta\",\n",
        "        \"ano\": 1999,\n",
        "        \"sinopse\": \"Um homem descontente e um vendedor de sabão enigmático formam um clube de luta subterrâneo que evolui para algo muito mais sinistro.\"\n",
        "    }\n",
        "]\n",
        "\n",
        "print(filmes)\n"
      ]
    }
  ]
}