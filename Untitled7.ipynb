{
  "nbformat": 4,
  "nbformat_minor": 0,
  "metadata": {
    "colab": {
      "provenance": [],
      "authorship_tag": "ABX9TyPBfRkM/hI4Nlzsm+gh+zDB",
      "include_colab_link": true
    },
    "kernelspec": {
      "name": "python3",
      "display_name": "Python 3"
    },
    "language_info": {
      "name": "python"
    }
  },
  "cells": [
    {
      "cell_type": "markdown",
      "metadata": {
        "id": "view-in-github",
        "colab_type": "text"
      },
      "source": [
        "<a href=\"https://colab.research.google.com/github/DiBevilacqua/DiBevilacqua/blob/main/Untitled7.ipynb\" target=\"_parent\"><img src=\"https://colab.research.google.com/assets/colab-badge.svg\" alt=\"Open In Colab\"/></a>"
      ]
    },
    {
      "cell_type": "markdown",
      "source": [
        "Dicionarios :#motivação : para se conectar a uma rede wi-fi, você precisa de duas infomações: o nome da rede e a senha de acesso. quando você vai acessar uma nova rede, você encontra uma lista de redes disponiveis"
      ],
      "metadata": {
        "id": "5vcUp3d9sxhq"
      }
    },
    {
      "cell_type": "code",
      "execution_count": 1,
      "metadata": {
        "colab": {
          "base_uri": "https://localhost:8080/"
        },
        "id": "qyfrODx5swcj",
        "outputId": "3320ecb5-f14e-4767-9928-d52b2a09b2db"
      },
      "outputs": [
        {
          "output_type": "stream",
          "name": "stdout",
          "text": [
            "['rede1', 'cnx_cnx', 'uai_fi', 'r3d3']\n"
          ]
        }
      ],
      "source": [
        "wifi_disponiveis = ['rede1', 'cnx_cnx', 'uai_fi', 'r3d3']\n",
        "print(wifi_disponiveis)"
      ]
    },
    {
      "cell_type": "markdown",
      "source": [
        "Você consegue identificar quais são os nomes de redes e suas respectivas senhas? talvez uma list não seja a melhor opção para armazenar esse tipo de dado."
      ],
      "metadata": {
        "id": "H-Jc9fjnxGF3"
      }
    },
    {
      "cell_type": "code",
      "source": [
        "#definição : armazenam sequencia no formato chave-valor. são do tipo dict : dicionario\n",
        "\n",
        "brasil = {'Capital': 'Brasilia', 'Idioma':'Português', 'População': 210}\n",
        "print(brasil)\n",
        "print(type(brasil))"
      ],
      "metadata": {
        "colab": {
          "base_uri": "https://localhost:8080/"
        },
        "id": "jajbe7SKxW8a",
        "outputId": "19b695b4-d0e2-46bf-b88f-7ff9e1df091a"
      },
      "execution_count": 3,
      "outputs": [
        {
          "output_type": "stream",
          "name": "stdout",
          "text": [
            "{'Capital': 'Brasilia', 'Idioma': 'Português', 'População': 210}\n",
            "<class 'dict'>\n"
          ]
        }
      ]
    },
    {
      "cell_type": "markdown",
      "source": [
        "não e permitido chaves duplicadas"
      ],
      "metadata": {
        "id": "RW4DrLiiy4VL"
      }
    },
    {
      "cell_type": "code",
      "source": [
        "carro = {\n",
        "    'Marca': 'Volkswagem',\n",
        "    'Modelo': 'Polo',\n",
        "    'Ano': 2021,\n",
        "    'Ano': 2004\n",
        "}\n",
        "print(carro)"
      ],
      "metadata": {
        "colab": {
          "base_uri": "https://localhost:8080/"
        },
        "id": "om8xwRzNy8Ji",
        "outputId": "725c8b50-0dcb-44f6-b808-3f79f86a7e2b"
      },
      "execution_count": 5,
      "outputs": [
        {
          "output_type": "stream",
          "name": "stdout",
          "text": [
            "{'Marca': 'Volkswagem', 'Modelo': 'Polo', 'Ano': 2004}\n"
          ]
        }
      ]
    },
    {
      "cell_type": "markdown",
      "source": [
        "Podemos criar dicionarios compostos: exemplo"
      ],
      "metadata": {
        "id": "a-pUHdvu0jqe"
      }
    },
    {
      "cell_type": "code",
      "source": [
        "cadastro = {\n",
        "    'Diego': {\n",
        "        'nome': 'Diego Bevilacqua',\n",
        "        'ano_nascimento': 1989,\n",
        "        'Pais':{\n",
        "            'pai': {\n",
        "                'nome': '<nome-do-pai> Bevilavcqua',\n",
        "                'ano_nascimento': 1970,\n",
        "            },\n",
        "            'mae':{\n",
        "                'nome': '<nome-da-mae> Fatima',\n",
        "                'ano_nascimento': 1961,\n",
        "            }\n",
        "        }\n",
        "    }\n",
        "}\n",
        "\n",
        "print(cadastro)"
      ],
      "metadata": {
        "colab": {
          "base_uri": "https://localhost:8080/"
        },
        "id": "4ojy4Rfm0pVm",
        "outputId": "a53d646f-e3b5-4d66-fe66-48975ed892ee"
      },
      "execution_count": 8,
      "outputs": [
        {
          "output_type": "stream",
          "name": "stdout",
          "text": [
            "{'Diego': {'nome': 'Diego Bevilacqua', 'ano_nascimento': 1989, 'Pais': {'pai': {'nome': '<nome-do-pai> Bevilavcqua', 'ano_nascimento': 1970}, 'mae': {'nome': '<nome-da-mae> Fatima', 'ano_nascimento': 1961}}}}\n"
          ]
        }
      ]
    },
    {
      "cell_type": "code",
      "source": [
        "cadastro  ['Diego']['Pais']['pai']['ano_nascimento']"
      ],
      "metadata": {
        "colab": {
          "base_uri": "https://localhost:8080/"
        },
        "id": "Dj6qiC9e2_Yy",
        "outputId": "f9e53df4-5831-4ae7-b67e-d18d811cad05"
      },
      "execution_count": 15,
      "outputs": [
        {
          "output_type": "execute_result",
          "data": {
            "text/plain": [
              "1970"
            ]
          },
          "metadata": {},
          "execution_count": 15
        }
      ]
    },
    {
      "cell_type": "markdown",
      "source": [
        "Operações\n"
      ],
      "metadata": {
        "id": "aQ3AsFBC4GPh"
      }
    },
    {
      "cell_type": "code",
      "source": [
        "credito ={'123': 750, '789': 980 }\n",
        "#elementos são acessados pela sua chave\n",
        "\n",
        "score_123 =credito['123']\n",
        "score_789 =credito['789']\n",
        "\n",
        "print(score_123)\n",
        "print(score_789)"
      ],
      "metadata": {
        "colab": {
          "base_uri": "https://localhost:8080/"
        },
        "id": "yokOdEQQ4JYi",
        "outputId": "0971e6b7-633b-49a1-9fee-03e63763a353"
      },
      "execution_count": 17,
      "outputs": [
        {
          "output_type": "stream",
          "name": "stdout",
          "text": [
            "750\n",
            "980\n"
          ]
        }
      ]
    },
    {
      "cell_type": "markdown",
      "source": [
        "elementos são atualizados pela sua chave."
      ],
      "metadata": {
        "id": "CKLonKMx5lJx"
      }
    },
    {
      "cell_type": "code",
      "source": [
        "credito['123']= 480\n",
        "print(credito)"
      ],
      "metadata": {
        "colab": {
          "base_uri": "https://localhost:8080/"
        },
        "id": "RE5D7BDG5pvM",
        "outputId": "268ec019-17fd-46de-8234-60bd53641f68"
      },
      "execution_count": 18,
      "outputs": [
        {
          "output_type": "stream",
          "name": "stdout",
          "text": [
            "{'123': 480, '789': 980}\n"
          ]
        }
      ]
    },
    {
      "cell_type": "markdown",
      "source": [
        "para adicionar um novo elemento, basta criar um novo elemento chave valor exemplo:"
      ],
      "metadata": {
        "id": "N5EyS11p51-t"
      }
    },
    {
      "cell_type": "code",
      "source": [
        "credito ['456'] = 1000\n",
        "print(credito)"
      ],
      "metadata": {
        "colab": {
          "base_uri": "https://localhost:8080/"
        },
        "id": "UELzpsGS5840",
        "outputId": "77a1f13e-6b82-4115-f17c-91ff25eb3864"
      },
      "execution_count": 19,
      "outputs": [
        {
          "output_type": "stream",
          "name": "stdout",
          "text": [
            "{'123': 480, '789': 980, '456': 1000}\n"
          ]
        }
      ]
    },
    {
      "cell_type": "markdown",
      "source": [
        "Metodos : são metodos nativos do python que nos ajudam a trabalhar no dia a dia com os dicionarios"
      ],
      "metadata": {
        "id": "UpGdtGCe6dDK"
      }
    },
    {
      "cell_type": "code",
      "source": [
        "artigo = dict(\n",
        "    titulo='modulo 02 | Python: Estrutura de Dados' ,\n",
        "    corpo ='Topicos, Aulas, listas, Conjuntos, Dicionarios,....',\n",
        "    total_caracteres=1530\n",
        ")\n",
        "#adicionar/atualizar em elemento pela chave-valor: dict.update(dict)\n",
        "print(artigo)\n",
        "\n",
        "artigo.update({'total_caracteres': 1599})\n",
        "print(artigo)\n",
        "\n",
        "#remover um elemento pela chave :dict.pop(key)\n",
        "print(artigo)\n",
        "total_caracteres= artigo.pop('total_caracteres')\n",
        "print(artigo)"
      ],
      "metadata": {
        "colab": {
          "base_uri": "https://localhost:8080/"
        },
        "id": "dziwX38R6nvc",
        "outputId": "1614aa4b-786f-489d-d5b4-fcf0e6ec15ae"
      },
      "execution_count": 27,
      "outputs": [
        {
          "output_type": "stream",
          "name": "stdout",
          "text": [
            "{'titulo': 'modulo 02 | Python: Estrutura de Dados', 'corpo': 'Topicos, Aulas, listas, Conjuntos, Dicionarios,....', 'total_caracteres': 1530}\n",
            "{'titulo': 'modulo 02 | Python: Estrutura de Dados', 'corpo': 'Topicos, Aulas, listas, Conjuntos, Dicionarios,....', 'total_caracteres': 1599}\n",
            "{'titulo': 'modulo 02 | Python: Estrutura de Dados', 'corpo': 'Topicos, Aulas, listas, Conjuntos, Dicionarios,....', 'total_caracteres': 1599}\n",
            "{'titulo': 'modulo 02 | Python: Estrutura de Dados', 'corpo': 'Topicos, Aulas, listas, Conjuntos, Dicionarios,....'}\n"
          ]
        }
      ]
    },
    {
      "cell_type": "markdown",
      "source": [
        "Cobversão : podemos converter as chaves e os itens de um dicionario em uma lista :exemplo"
      ],
      "metadata": {
        "id": "2f50lX4m9GzP"
      }
    },
    {
      "cell_type": "code",
      "source": [
        "artigo = dict(\n",
        "    titulo='modulo 02 | Python: Estrutura de Dados' ,\n",
        "    corpo ='Topicos, Aulas, listas, Conjuntos, Dicionarios,....',\n",
        "    total_caracteres=1530\n",
        ")\n",
        "chaves = list(artigo.keys())\n",
        "print(chaves)\n",
        "print(type(chaves))"
      ],
      "metadata": {
        "colab": {
          "base_uri": "https://localhost:8080/"
        },
        "id": "ls1ld5vD9Q33",
        "outputId": "5afd7f85-482b-4003-942a-21422665e95a"
      },
      "execution_count": 31,
      "outputs": [
        {
          "output_type": "stream",
          "name": "stdout",
          "text": [
            "['titulo', 'corpo', 'total_caracteres']\n",
            "<class 'list'>\n"
          ]
        }
      ]
    },
    {
      "cell_type": "code",
      "source": [
        "valores = list(artigo.values())\n",
        "print(valores)\n",
        "print(type(valores))"
      ],
      "metadata": {
        "colab": {
          "base_uri": "https://localhost:8080/"
        },
        "id": "NZOrYV7W-bLH",
        "outputId": "3205f000-649d-4bc2-e385-2648fc33441f"
      },
      "execution_count": 32,
      "outputs": [
        {
          "output_type": "stream",
          "name": "stdout",
          "text": [
            "['modulo 02 | Python: Estrutura de Dados', 'Topicos, Aulas, listas, Conjuntos, Dicionarios,....', 1530]\n",
            "<class 'list'>\n"
          ]
        }
      ]
    },
    {
      "cell_type": "code",
      "source": [
        "wifi_disponiveis =[]\n"
      ],
      "metadata": {
        "id": "IVQQZJbI_Fn9"
      },
      "execution_count": 47,
      "outputs": []
    },
    {
      "cell_type": "code",
      "source": [
        "rede= {'nome': 'rede1', 'senha': 'cnx_cnx'}\n",
        "wifi_disponiveis.append(rede)"
      ],
      "metadata": {
        "id": "JF6zkfHy_nET"
      },
      "execution_count": 48,
      "outputs": []
    },
    {
      "cell_type": "code",
      "source": [
        "rede = {'nome': 'uai-fi', 'senha': 'r3d3'}\n",
        "wifi_disponiveis.append(rede)"
      ],
      "metadata": {
        "id": "ymUNgEDGAGUL"
      },
      "execution_count": 49,
      "outputs": []
    },
    {
      "cell_type": "code",
      "source": [
        "print(wifi_disponiveis)"
      ],
      "metadata": {
        "colab": {
          "base_uri": "https://localhost:8080/"
        },
        "id": "OZOni7dMAgCZ",
        "outputId": "737c256e-0383-40d5-db7e-a7dcf2851755"
      },
      "execution_count": 50,
      "outputs": [
        {
          "output_type": "stream",
          "name": "stdout",
          "text": [
            "[{'nome': 'rede1', 'senha': 'cnx_cnx'}, {'nome': 'uai-fi', 'senha': 'r3d3'}]\n"
          ]
        }
      ]
    }
  ]
}