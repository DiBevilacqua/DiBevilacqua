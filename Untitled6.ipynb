{
  "nbformat": 4,
  "nbformat_minor": 0,
  "metadata": {
    "colab": {
      "provenance": [],
      "authorship_tag": "ABX9TyP44ySx2js2Cn93GXEcTWbu",
      "include_colab_link": true
    },
    "kernelspec": {
      "name": "python3",
      "display_name": "Python 3"
    },
    "language_info": {
      "name": "python"
    }
  },
  "cells": [
    {
      "cell_type": "markdown",
      "metadata": {
        "id": "view-in-github",
        "colab_type": "text"
      },
      "source": [
        "<a href=\"https://colab.research.google.com/github/DiBevilacqua/DiBevilacqua/blob/main/Untitled6.ipynb\" target=\"_parent\"><img src=\"https://colab.research.google.com/assets/colab-badge.svg\" alt=\"Open In Colab\"/></a>"
      ]
    },
    {
      "cell_type": "markdown",
      "source": [
        "Modulo 02- aula de Dados\n",
        "'conjuntos'"
      ],
      "metadata": {
        "id": "QWDjCJRJe8nM"
      }
    },
    {
      "cell_type": "code",
      "execution_count": 1,
      "metadata": {
        "id": "iAn-qfx7d3Wl"
      },
      "outputs": [],
      "source": [
        "hashtags_seg = ['#thiago0', '#joao', '#bbb']\n",
        "hashtags_ter = ['#sarah', '#bbb', '#fiuk']\n",
        "hashtags_qua = ['#gil', '#thelma', '#lourdes']\n",
        "hashtags_qui = ['#rafa', '#fora', '#danilo']\n",
        "hashtags_sex = ['#juliete', '#arthur', '#bbb']"
      ]
    },
    {
      "cell_type": "code",
      "source": [
        "hashtags_semana = hashtags_seg + hashtags_ter + hashtags_qua + hashtags_qui + hashtags_sex\n",
        "print(hashtags_semana)\n",
        "print(len(hashtags_semana))\n",
        "\n",
        "hashtags_semana = list(set(hashtags_seg + hashtags_ter + hashtags_qua + hashtags_qui + hashtags_sex))\n",
        "print(hashtags_semana)\n",
        "print(len(hashtags_semana))"
      ],
      "metadata": {
        "colab": {
          "base_uri": "https://localhost:8080/"
        },
        "id": "HbOjCphggWJn",
        "outputId": "2fb0eb71-533f-4177-8f10-6fa61f8684db"
      },
      "execution_count": 23,
      "outputs": [
        {
          "output_type": "stream",
          "name": "stdout",
          "text": [
            "['#thiago0', '#joao', '#bbb', '#sarah', '#bbb', '#fiuk', '#gil', '#thelma', '#lourdes', '#rafa', '#fora', '#danilo', '#juliete', '#arthur', '#bbb']\n",
            "15\n",
            "['#arthur', '#sarah', '#gil', '#fora', '#thiago0', '#juliete', '#rafa', '#danilo', '#fiuk', '#bbb', '#thelma', '#joao', '#lourdes']\n",
            "13\n"
          ]
        }
      ]
    },
    {
      "cell_type": "code",
      "source": [
        "#definição armazenam sequencias imutaveis e desordenadas valores, sem repetição são do tipo set, diferente das listas os conjuntos usam {} e não []\n",
        "\n",
        "frutas ={'banana', 'maca', 'uva', 'uva'}\n",
        "print(frutas)\n",
        "print(type(frutas))"
      ],
      "metadata": {
        "colab": {
          "base_uri": "https://localhost:8080/"
        },
        "id": "9KqnhcRmhasu",
        "outputId": "478a355f-4ae2-462b-a108-ea5d388e6303"
      },
      "execution_count": 7,
      "outputs": [
        {
          "output_type": "stream",
          "name": "stdout",
          "text": [
            "{'uva', 'maca', 'banana'}\n",
            "<class 'set'>\n"
          ]
        }
      ]
    },
    {
      "cell_type": "code",
      "source": [
        "#operaçoes = as operações do tipo set são: - (diferença)\n",
        "#exemplo paises europa.\n",
        "\n",
        "norte_europa = {'reino unido', 'suecia', 'russia', 'noruega','dinamarca'}\n",
        "escandinavia = {'noruega', 'dinamarca', 'suecia'}\n",
        "\n",
        "norte_europa_nao_escandinavia = norte_europa - escandinavia\n",
        "print(norte_europa_nao_escandinavia)\n",
        "print(type(norte_europa_nao_escandinavia))\n",
        "\n",
        "escandinavia_nao_europa = escandinavia - norte_europa\n",
        "print(escandinavia_nao_europa)\n",
        "print(type(escandinavia_nao_europa))"
      ],
      "metadata": {
        "colab": {
          "base_uri": "https://localhost:8080/"
        },
        "id": "axsegvGXiYRT",
        "outputId": "9b2e7a65-487a-4730-f223-74a81dff973a"
      },
      "execution_count": 9,
      "outputs": [
        {
          "output_type": "stream",
          "name": "stdout",
          "text": [
            "{'russia', 'reino unido'}\n",
            "<class 'set'>\n",
            "set()\n",
            "<class 'set'>\n"
          ]
        }
      ]
    },
    {
      "cell_type": "code",
      "source": [
        "#Metodos : sao metodos nativos do python que nos ajudam a trabalhar no dia a dia com conjuntos\n",
        "\n",
        "cursos = {'exatas', 'humanas', 'biologicas'}\n",
        "print(cursos)\n",
        "\n",
        "#incluir um elemento no conjunto: set.add(val)\n",
        "\n",
        "cursos.add('saude')\n",
        "print(cursos)\n",
        "\n",
        "#remover um elemento no conjunto : set.remove(val)\n",
        "\n",
        "cursos.remove ('humanas')\n",
        "print(cursos)"
      ],
      "metadata": {
        "colab": {
          "base_uri": "https://localhost:8080/"
        },
        "id": "tnybpPxJnHyt",
        "outputId": "4b731ea2-c42d-437b-8651-d6e0f464d133"
      },
      "execution_count": 12,
      "outputs": [
        {
          "output_type": "stream",
          "name": "stdout",
          "text": [
            "{'biologicas', 'humanas', 'exatas'}\n",
            "{'saude', 'biologicas', 'humanas', 'exatas'}\n",
            "{'saude', 'biologicas', 'exatas'}\n"
          ]
        }
      ]
    },
    {
      "cell_type": "code",
      "source": [
        "#Conversão : podemos converter conjuntos para lista e vise versa. (set)\n",
        "\n",
        "times_paulistas = {'Sao paulo', 'Palmeiras', 'Corinthians', 'Santos'}\n",
        "print(times_paulistas)\n",
        "print(type(times_paulistas))\n",
        "print(list(times_paulistas))"
      ],
      "metadata": {
        "colab": {
          "base_uri": "https://localhost:8080/"
        },
        "id": "fwCQFuADoHWc",
        "outputId": "4a0926a2-0c77-45c6-8ec5-0e39eaa94259"
      },
      "execution_count": 16,
      "outputs": [
        {
          "output_type": "stream",
          "name": "stdout",
          "text": [
            "{'Corinthians', 'Palmeiras', 'Sao paulo', 'Santos'}\n",
            "<class 'set'>\n",
            "['Corinthians', 'Palmeiras', 'Sao paulo', 'Santos']\n",
            "<class 'set'>\n"
          ]
        }
      ]
    },
    {
      "cell_type": "code",
      "source": [
        "print(list(times_paulistas))\n",
        "print(type(list(times_paulistas)))"
      ],
      "metadata": {
        "colab": {
          "base_uri": "https://localhost:8080/"
        },
        "id": "2vaMpNdzpLNx",
        "outputId": "3485ed14-7f9e-410c-8731-37bca71f9a35"
      },
      "execution_count": 20,
      "outputs": [
        {
          "output_type": "stream",
          "name": "stdout",
          "text": [
            "['Corinthians', 'Palmeiras', 'Sao paulo', 'Santos']\n",
            "<class 'list'>\n"
          ]
        }
      ]
    },
    {
      "cell_type": "code",
      "source": [
        "#exemplo lista\n",
        "times_paulistas = ['Sao paulo', 'Palmeiras', 'Corinthians', 'Santos']\n",
        "print(times_paulistas)\n",
        "print(type(times_paulistas))\n"
      ],
      "metadata": {
        "colab": {
          "base_uri": "https://localhost:8080/"
        },
        "id": "x9_lVtmNouBi",
        "outputId": "63cb6f74-b18f-49d8-ee2b-67f9fd1d27db"
      },
      "execution_count": 14,
      "outputs": [
        {
          "output_type": "stream",
          "name": "stdout",
          "text": [
            "['Sao paulo', 'Palmeiras', 'Corinthians', 'Santos']\n",
            "<class 'list'>\n"
          ]
        }
      ]
    }
  ]
}