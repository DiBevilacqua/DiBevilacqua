{
  "nbformat": 4,
  "nbformat_minor": 0,
  "metadata": {
    "colab": {
      "provenance": [],
      "authorship_tag": "ABX9TyO+Duvwm1K+eqylprUGfRRz",
      "include_colab_link": true
    },
    "kernelspec": {
      "name": "python3",
      "display_name": "Python 3"
    },
    "language_info": {
      "name": "python"
    }
  },
  "cells": [
    {
      "cell_type": "markdown",
      "metadata": {
        "id": "view-in-github",
        "colab_type": "text"
      },
      "source": [
        "<a href=\"https://colab.research.google.com/github/DiBevilacqua/DiBevilacqua/blob/main/exce%C3%A7%C3%A3o_(try_except_finaly.ipynb\" target=\"_parent\"><img src=\"https://colab.research.google.com/assets/colab-badge.svg\" alt=\"Open In Colab\"/></a>"
      ]
    },
    {
      "cell_type": "markdown",
      "source": [
        "Estrutura condicional try/except/finaly\n",
        "\n",
        "exeções : são erros que podem acontecer durante a execução do nosso código.\n",
        "\n"
      ],
      "metadata": {
        "id": "jaJAE1D5KtAT"
      }
    },
    {
      "cell_type": "code",
      "execution_count": 28,
      "metadata": {
        "colab": {
          "base_uri": "https://localhost:8080/",
          "height": 176
        },
        "id": "cX83VZehKsAE",
        "outputId": "e7b14703-535e-49d6-d25e-64d69dc00514"
      },
      "outputs": [
        {
          "output_type": "error",
          "ename": "ZeroDivisionError",
          "evalue": "float division by zero",
          "traceback": [
            "\u001b[0;31m---------------------------------------------------------------------------\u001b[0m",
            "\u001b[0;31mZeroDivisionError\u001b[0m                         Traceback (most recent call last)",
            "\u001b[0;32m<ipython-input-28-c2cc5f6db866>\u001b[0m in \u001b[0;36m<cell line: 6>\u001b[0;34m()\u001b[0m\n\u001b[1;32m      4\u001b[0m \u001b[0mpessoas\u001b[0m \u001b[0;34m=\u001b[0m \u001b[0;36m0\u001b[0m\u001b[0;34m\u001b[0m\u001b[0;34m\u001b[0m\u001b[0m\n\u001b[1;32m      5\u001b[0m \u001b[0;34m\u001b[0m\u001b[0m\n\u001b[0;32m----> 6\u001b[0;31m \u001b[0mvalor_por_pessoa\u001b[0m \u001b[0;34m=\u001b[0m \u001b[0mpreco\u001b[0m \u001b[0;34m/\u001b[0m \u001b[0mpessoas\u001b[0m\u001b[0;34m\u001b[0m\u001b[0;34m\u001b[0m\u001b[0m\n\u001b[0m",
            "\u001b[0;31mZeroDivisionError\u001b[0m: float division by zero"
          ]
        }
      ],
      "source": [
        "#exemplo : Erro de operaçoes numericas impossiveis\n",
        "\n",
        "preco = 132.85\n",
        "pessoas = 0\n",
        "\n",
        "valor_por_pessoa = preco / pessoas"
      ]
    },
    {
      "cell_type": "code",
      "source": [
        "#exemplo : Erro por combinações de tipos diferentes.\n",
        "\n",
        "nome = 'Diego'\n",
        "idade = 34\n",
        "\n",
        "apresentacao = 'Fala pessoal, meu nome e' + nome + 'e eu tenho' + idade + 'anos'"
      ],
      "metadata": {
        "colab": {
          "base_uri": "https://localhost:8080/",
          "height": 176
        },
        "id": "umo4FySvME2f",
        "outputId": "ad759374-20de-4dc1-d9f4-cc9734a73847"
      },
      "execution_count": 10,
      "outputs": [
        {
          "output_type": "error",
          "ename": "TypeError",
          "evalue": "can only concatenate str (not \"int\") to str",
          "traceback": [
            "\u001b[0;31m---------------------------------------------------------------------------\u001b[0m",
            "\u001b[0;31mTypeError\u001b[0m                                 Traceback (most recent call last)",
            "\u001b[0;32m<ipython-input-10-a332b2fb551d>\u001b[0m in \u001b[0;36m<cell line: 6>\u001b[0;34m()\u001b[0m\n\u001b[1;32m      4\u001b[0m \u001b[0midade\u001b[0m \u001b[0;34m=\u001b[0m \u001b[0;36m34\u001b[0m\u001b[0;34m\u001b[0m\u001b[0;34m\u001b[0m\u001b[0m\n\u001b[1;32m      5\u001b[0m \u001b[0;34m\u001b[0m\u001b[0m\n\u001b[0;32m----> 6\u001b[0;31m \u001b[0mapresentacao\u001b[0m \u001b[0;34m=\u001b[0m \u001b[0;34m'Fala pessoal, meu nome e'\u001b[0m \u001b[0;34m+\u001b[0m \u001b[0mnome\u001b[0m \u001b[0;34m+\u001b[0m \u001b[0;34m'e eu tenho'\u001b[0m \u001b[0;34m+\u001b[0m \u001b[0midade\u001b[0m \u001b[0;34m+\u001b[0m \u001b[0;34m'anos'\u001b[0m\u001b[0;34m\u001b[0m\u001b[0;34m\u001b[0m\u001b[0m\n\u001b[0m",
            "\u001b[0;31mTypeError\u001b[0m: can only concatenate str (not \"int\") to str"
          ]
        }
      ]
    },
    {
      "cell_type": "code",
      "source": [
        "#exemplo : Erro de indexação de estrutura de dados\n",
        "\n",
        "anos = [2019, 2020, 2021]\n",
        "\n",
        "ano_atual = anos[3]"
      ],
      "metadata": {
        "colab": {
          "base_uri": "https://localhost:8080/",
          "height": 176
        },
        "id": "qN2tGLcLNEq6",
        "outputId": "408d404d-316e-4c3d-cbb9-de815d622046"
      },
      "execution_count": 12,
      "outputs": [
        {
          "output_type": "error",
          "ename": "IndexError",
          "evalue": "list index out of range",
          "traceback": [
            "\u001b[0;31m---------------------------------------------------------------------------\u001b[0m",
            "\u001b[0;31mIndexError\u001b[0m                                Traceback (most recent call last)",
            "\u001b[0;32m<ipython-input-12-e609f490b4d7>\u001b[0m in \u001b[0;36m<cell line: 5>\u001b[0;34m()\u001b[0m\n\u001b[1;32m      3\u001b[0m \u001b[0manos\u001b[0m \u001b[0;34m=\u001b[0m \u001b[0;34m[\u001b[0m\u001b[0;36m2019\u001b[0m\u001b[0;34m,\u001b[0m \u001b[0;36m2020\u001b[0m\u001b[0;34m,\u001b[0m \u001b[0;36m2021\u001b[0m\u001b[0;34m]\u001b[0m\u001b[0;34m\u001b[0m\u001b[0;34m\u001b[0m\u001b[0m\n\u001b[1;32m      4\u001b[0m \u001b[0;34m\u001b[0m\u001b[0m\n\u001b[0;32m----> 5\u001b[0;31m \u001b[0mano_atual\u001b[0m \u001b[0;34m=\u001b[0m \u001b[0manos\u001b[0m\u001b[0;34m[\u001b[0m\u001b[0;36m3\u001b[0m\u001b[0;34m]\u001b[0m\u001b[0;34m\u001b[0m\u001b[0;34m\u001b[0m\u001b[0m\n\u001b[0m",
            "\u001b[0;31mIndexError\u001b[0m: list index out of range"
          ]
        }
      ]
    },
    {
      "cell_type": "code",
      "source": [
        "#exemplo 2\n",
        "\n",
        "cursos = {\n",
        "    'python': {\n",
        "        'nome': 'python para analise de Dados', 'duracao': 2.5\n",
        "    },\n",
        "    'Sql':{\n",
        "        'nome': 'Sql para analise de Dados', 'duracao': 2\n",
        "    }\n",
        "}\n",
        "curso_atual =cursos['analista']"
      ],
      "metadata": {
        "colab": {
          "base_uri": "https://localhost:8080/",
          "height": 176
        },
        "id": "FJM6e6wCNgx_",
        "outputId": "9e11ec10-80d1-4226-8059-737e44fba48a"
      },
      "execution_count": 23,
      "outputs": [
        {
          "output_type": "error",
          "ename": "KeyError",
          "evalue": "'analista'",
          "traceback": [
            "\u001b[0;31m---------------------------------------------------------------------------\u001b[0m",
            "\u001b[0;31mKeyError\u001b[0m                                  Traceback (most recent call last)",
            "\u001b[0;32m<ipython-input-23-cc8926de41f8>\u001b[0m in \u001b[0;36m<cell line: 11>\u001b[0;34m()\u001b[0m\n\u001b[1;32m      9\u001b[0m     }\n\u001b[1;32m     10\u001b[0m }\n\u001b[0;32m---> 11\u001b[0;31m \u001b[0mcurso_atual\u001b[0m \u001b[0;34m=\u001b[0m\u001b[0mcursos\u001b[0m\u001b[0;34m[\u001b[0m\u001b[0;34m'analista'\u001b[0m\u001b[0;34m]\u001b[0m\u001b[0;34m\u001b[0m\u001b[0;34m\u001b[0m\u001b[0m\n\u001b[0m",
            "\u001b[0;31mKeyError\u001b[0m: 'analista'"
          ]
        }
      ]
    },
    {
      "cell_type": "code",
      "source": [
        "preco = 132.85\n",
        "pessoas = 2\n",
        "\n",
        "try:\n",
        "  valor_por_pessoa = preco / pessoas\n",
        "  print(valor_por_pessoa)\n",
        "except ZeroDivisionError:\n",
        "  print('numero de pessoas invalido. espera-se um valor maior que 0 e obteve-se um valor igual a ' + str(pessoas))"
      ],
      "metadata": {
        "colab": {
          "base_uri": "https://localhost:8080/"
        },
        "id": "EcY5INnvQNVC",
        "outputId": "b4f53546-1c4b-42f8-81bd-fcb0f2e67d81"
      },
      "execution_count": 26,
      "outputs": [
        {
          "output_type": "stream",
          "name": "stdout",
          "text": [
            "66.425\n"
          ]
        }
      ]
    },
    {
      "cell_type": "code",
      "source": [
        "from logging import exception\n",
        "anos = [2019, 2020, 2021]\n",
        "\n",
        "\n",
        "try:\n",
        "  ano_atual = anos [3]\n",
        "  print(ano_atual)\n",
        "except Exception as exc:\n",
        "  print('descricao da exceção:' + str(exc))\n",
        "  print('Tipo da exceção: ' + str(type(exc)))\n",
        "  print('lista de anos e menor que o valor escolhido. espera-se um valor 0 e' + str(len(anos) - 1 ))"
      ],
      "metadata": {
        "colab": {
          "base_uri": "https://localhost:8080/"
        },
        "id": "ZEpG660WRpdE",
        "outputId": "8e483080-857e-4759-ce54-42917c997f6e"
      },
      "execution_count": 36,
      "outputs": [
        {
          "output_type": "stream",
          "name": "stdout",
          "text": [
            "descricao da exceção:list index out of range\n",
            "Tipo da exceção: <class 'IndexError'>\n",
            "lista de anos e menor que o valor escolhido. espera-se um valor 0 e2\n"
          ]
        }
      ]
    },
    {
      "cell_type": "code",
      "source": [
        "anos = [2019, 2020, 2021]\n",
        "\n",
        "try:\n",
        "  ano_atual = anos[3]\n",
        "  print(ano_atual)\n",
        "except IndexError:\n",
        "  print('lista de anos e menor que o valor escolhido. espera-se um valor entre 0 e ' +str(len(anos) - 1))\n",
        "except Exception as exc:\n",
        "  print(exc)\n",
        "  print('Erro generico')"
      ],
      "metadata": {
        "colab": {
          "base_uri": "https://localhost:8080/"
        },
        "id": "Q9ZnZPy4T_7v",
        "outputId": "802ff2d6-fc64-4e64-b093-d6c216fcc1bf"
      },
      "execution_count": 40,
      "outputs": [
        {
          "output_type": "stream",
          "name": "stdout",
          "text": [
            "lista de anos e menor que o valor escolhido. espera-se um valor entre 0 e 2\n"
          ]
        }
      ]
    },
    {
      "cell_type": "code",
      "source": [
        "nome = 'Diego'\n",
        "idade = 34\n",
        "\n",
        "try:\n",
        "  apresentacao = 'fala pessoal, meu nome é ' + nome + 'e eu tenho ' + idade + ' anos'\n",
        "  print(apresentacao)\n",
        "except TypeError:\n",
        "  idade = str(idade)\n",
        "finally:\n",
        "  print('Segunda chance')\n",
        "  apresentacao = 'Fala pessoal, meu nome é ' + nome + 'e eu tenho ' + idade + ' anos'\n",
        "  print(apresentacao)"
      ],
      "metadata": {
        "colab": {
          "base_uri": "https://localhost:8080/"
        },
        "id": "bOJpf1xYTvXg",
        "outputId": "f4a7d1b0-1075-4d11-92c5-b33c3f59e4e9"
      },
      "execution_count": 48,
      "outputs": [
        {
          "output_type": "stream",
          "name": "stdout",
          "text": [
            "Segunda chance\n",
            "Fala pessoal, meu nome é Diegoe eu tenho 34 anos\n"
          ]
        }
      ]
    }
  ]
}