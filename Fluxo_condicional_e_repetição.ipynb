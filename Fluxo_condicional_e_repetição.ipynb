{
  "nbformat": 4,
  "nbformat_minor": 0,
  "metadata": {
    "colab": {
      "provenance": [],
      "authorship_tag": "ABX9TyMYCrdPu8C1qIAQeKbafG36",
      "include_colab_link": true
    },
    "kernelspec": {
      "name": "python3",
      "display_name": "Python 3"
    },
    "language_info": {
      "name": "python"
    }
  },
  "cells": [
    {
      "cell_type": "markdown",
      "metadata": {
        "id": "view-in-github",
        "colab_type": "text"
      },
      "source": [
        "<a href=\"https://colab.research.google.com/github/DiBevilacqua/DiBevilacqua/blob/main/Fluxo_condicional_e_repeti%C3%A7%C3%A3o.ipynb\" target=\"_parent\"><img src=\"https://colab.research.google.com/assets/colab-badge.svg\" alt=\"Open In Colab\"/></a>"
      ]
    },
    {
      "cell_type": "markdown",
      "source": [
        "aprendendo IF Else (se)(se não)\n",
        "desvio condicional(começar a injetar inteligencia )\n",
        "estrutura condicional (try/catch/finaly)\n",
        "estrutura de repetição (for/ in)\n"
      ],
      "metadata": {
        "id": "mpyg5CvMq0t4"
      }
    },
    {
      "cell_type": "code",
      "source": [
        "if True:\n",
        "  print('verdadeiro')\n",
        "else:\n",
        "    print('falso')"
      ],
      "metadata": {
        "colab": {
          "base_uri": "https://localhost:8080/"
        },
        "id": "ta3JRAPssI-H",
        "outputId": "f9af235e-b4bd-4b9c-ec11-164b7878fafb"
      },
      "execution_count": 5,
      "outputs": [
        {
          "output_type": "stream",
          "name": "stdout",
          "text": [
            "verdadeiro\n"
          ]
        }
      ]
    },
    {
      "cell_type": "code",
      "execution_count": 4,
      "metadata": {
        "colab": {
          "base_uri": "https://localhost:8080/"
        },
        "id": "uz7f184LEA63",
        "outputId": "e8f98745-76b0-4922-a094-f6cba13c5c2c"
      },
      "outputs": [
        {
          "output_type": "stream",
          "name": "stdout",
          "text": [
            "False\n",
            "Erro: codigo de segurança invalido\n"
          ]
        }
      ],
      "source": [
        "codigo_de_seguranca = '827'\n",
        "codigo_de_seguranca_cadastro = '010'\n",
        "\n",
        "pode_efetuar_pagamento = codigo_de_seguranca == codigo_de_seguranca_cadastro\n",
        "print(pode_efetuar_pagamento)\n",
        "\n",
        "if pode_efetuar_pagamento:\n",
        "  print('Pagamento efetuado')\n",
        "else:\n",
        "  print('Erro: codigo de segurança invalido')"
      ]
    },
    {
      "cell_type": "markdown",
      "source": [
        "Exemplo : codigo e senha de segurança de um cartao de credito:  "
      ],
      "metadata": {
        "id": "UiAyie4pueRv"
      }
    },
    {
      "cell_type": "code",
      "source": [
        "codigo_de_seguranca = '852'\n",
        "codigo_de_seguranca_cadastro = '852'\n",
        "\n",
        "senha = '7782'\n",
        "senha_cadastro = '7783'\n",
        "\n",
        "if (codigo_de_seguranca == codigo_de_seguranca_cadastro) & (senha == senha_cadastro):\n",
        "  print('pagamento efetuado')\n",
        "else:\n",
        "  print('Erro :Pagamento nao efetuado')"
      ],
      "metadata": {
        "colab": {
          "base_uri": "https://localhost:8080/"
        },
        "id": "TqXxa7WEuctl",
        "outputId": "0c2e6ed6-aafd-437e-dc96-841efb5a05a3"
      },
      "execution_count": 27,
      "outputs": [
        {
          "output_type": "stream",
          "name": "stdout",
          "text": [
            "Erro :Pagamento nao efetuado\n"
          ]
        }
      ]
    },
    {
      "cell_type": "code",
      "source": [
        "if (codigo_de_seguranca != codigo_de_seguranca_cadastro) | (senha != senha_cadastro):\n",
        "  print('Erro : Pagamento não efetuado ')\n",
        "else:\n",
        "  print('Pagamento efetuado')"
      ],
      "metadata": {
        "colab": {
          "base_uri": "https://localhost:8080/"
        },
        "id": "usHs3BEZvkXI",
        "outputId": "e85e5b56-283f-4aa3-d3c9-3ce7f5433304"
      },
      "execution_count": 22,
      "outputs": [
        {
          "output_type": "stream",
          "name": "stdout",
          "text": [
            "Pagamento efetuado\n"
          ]
        }
      ]
    },
    {
      "cell_type": "code",
      "source": [
        "if (codigo_de_seguranca == codigo_de_seguranca_cadastro) & (senha == senha_cadastro):\n",
        "  print('Pagamento efetuado')\n",
        "elif (codigo_de_seguranca!= codigo_de_seguranca_cadastro) & (senha == senha_cadastro):\n",
        "  print('Erro: codigo segurança invalido')\n",
        "elif (codigo_de_seguranca == codigo_de_seguranca_cadastro) & (senha != senha_cadastro):\n",
        "  print('Erro: senha invalida ')\n",
        "else:\n",
        "  print('Erro: codigo de segurança e senha Invalidos')"
      ],
      "metadata": {
        "colab": {
          "base_uri": "https://localhost:8080/"
        },
        "id": "aKTTPFUE0WYt",
        "outputId": "2af35b3c-efb5-4c03-97ee-7952bfdb4e09"
      },
      "execution_count": 28,
      "outputs": [
        {
          "output_type": "stream",
          "name": "stdout",
          "text": [
            "Erro: senha invalida \n"
          ]
        }
      ]
    },
    {
      "cell_type": "markdown",
      "source": [
        "Estrutura condicional try/ except/finaly"
      ],
      "metadata": {
        "id": "9RjeYI_s2hri"
      }
    }
  ]
}