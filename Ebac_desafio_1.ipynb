{
  "nbformat": 4,
  "nbformat_minor": 0,
  "metadata": {
    "colab": {
      "provenance": [],
      "authorship_tag": "ABX9TyOCM0XeUnCa9MF0QcrjoHkr",
      "include_colab_link": true
    },
    "kernelspec": {
      "name": "python3",
      "display_name": "Python 3"
    },
    "language_info": {
      "name": "python"
    }
  },
  "cells": [
    {
      "cell_type": "markdown",
      "metadata": {
        "id": "view-in-github",
        "colab_type": "text"
      },
      "source": [
        "<a href=\"https://colab.research.google.com/github/DiBevilacqua/DiBevilacqua/blob/main/Ebac_desafio_1.ipynb\" target=\"_parent\"><img src=\"https://colab.research.google.com/assets/colab-badge.svg\" alt=\"Open In Colab\"/></a>"
      ]
    },
    {
      "cell_type": "markdown",
      "source": [
        "# 10 projetos mais populares do GitHub"
      ],
      "metadata": {
        "id": "xe7WWBCCnvYF"
      }
    },
    {
      "cell_type": "markdown",
      "source": [
        "\n",
        "\n",
        "> * Utilize os pacotes Python requests e beautifulsoup4 para extrair os 10 projetos mais populares do GitHub.\n",
        "*Acesse o link https://github.com/trending\n",
        "*Confira o arquivo robots.txt do website.\n",
        "*Escreva os dados extraídos no arquivo csv github.csv separado por ;\n",
        "\n"
      ],
      "metadata": {
        "id": "hI84SSLvnzlx"
      }
    },
    {
      "cell_type": "markdown",
      "source": [
        "## Bibliotecas"
      ],
      "metadata": {
        "id": "DlD9fhlLn3PD"
      }
    },
    {
      "cell_type": "code",
      "execution_count": 6,
      "metadata": {
        "id": "3-_5T8Ndnqqk"
      },
      "outputs": [],
      "source": [
        "import requests\n",
        "import csv\n",
        "from bs4 import BeautifulSoup as soup\n",
        "from requests.exceptions import HTTPError"
      ]
    },
    {
      "cell_type": "markdown",
      "source": [
        "## Arquivo robots.txt"
      ],
      "metadata": {
        "id": "VIMdrjddoHZr"
      }
    },
    {
      "cell_type": "code",
      "source": [
        "conteudo = None\n",
        "URL = 'https://github.com/robots.txt'\n",
        "\n",
        "try:\n",
        " resposta = requests.get(URL)\n",
        " resposta.raise_for_status()\n",
        "except HTTPError as exc:\n",
        " print(exc)\n",
        "else:\n",
        " conteudo = resposta.text\n",
        "\n",
        "print(conteudo)"
      ],
      "metadata": {
        "colab": {
          "base_uri": "https://localhost:8080/"
        },
        "id": "YWkW5XA9oIQz",
        "outputId": "f2587705-f6a5-4a0d-8b86-0627da88f82e"
      },
      "execution_count": 2,
      "outputs": [
        {
          "output_type": "stream",
          "name": "stdout",
          "text": [
            "# If you would like to crawl GitHub contact us via https://support.github.com?tags=dotcom-robots\n",
            "# We also provide an extensive API: https://docs.github.com\n",
            "User-agent: baidu\n",
            "crawl-delay: 1\n",
            "\n",
            "\n",
            "User-agent: *\n",
            "\n",
            "Disallow: /*/*/pulse\n",
            "Disallow: /*/*/projects\n",
            "Disallow: /*/*/forks\n",
            "Disallow: /*/*/issues/new\n",
            "Disallow: /*/*/issues/search\n",
            "Disallow: /*/*/commits/\n",
            "Disallow: /*/*/branches\n",
            "Disallow: /*/*/contributors\n",
            "Disallow: /*/*/tags\n",
            "Disallow: /*/*/stargazers\n",
            "Disallow: /*/*/watchers\n",
            "Disallow: /*/*/network\n",
            "Disallow: /*/*/graphs\n",
            "Disallow: /*/*/compare\n",
            "\n",
            "Disallow: /*/tree/\n",
            "Disallow: /gist/\n",
            "Disallow: /*/download\n",
            "Disallow: /*/revisions\n",
            "Disallow: /*/commits/*?author\n",
            "Disallow: /*/commits/*?path\n",
            "Disallow: /*/comments\n",
            "Disallow: /*/archive/\n",
            "Disallow: /*/blame/\n",
            "Disallow: /*/raw/\n",
            "Disallow: /*/cache/\n",
            "Disallow: /.git/\n",
            "Disallow: */.git/\n",
            "Disallow: /*.git$\n",
            "Disallow: /search/advanced\n",
            "Disallow: /search$\n",
            "Disallow: /*q=\n",
            "Disallow: /*.atom$\n",
            "\n",
            "Disallow: /ekansa/Open-Context-Data\n",
            "Disallow: /ekansa/opencontext-*\n",
            "Disallow: */tarball/\n",
            "Disallow: */zipball/\n",
            "\n",
            "Disallow: /*source=*\n",
            "Disallow: /*ref_cta=*\n",
            "Disallow: /*plan=*\n",
            "Disallow: /*return_to=*\n",
            "Disallow: /*ref_loc=*\n",
            "Disallow: /*setup_organization=*\n",
            "Disallow: /*source_repo=*\n",
            "Disallow: /*ref_page=*\n",
            "Disallow: /*source=*\n",
            "Disallow: /*referrer=*\n",
            "Disallow: /*report=*\n",
            "Disallow: /*author=*\n",
            "Disallow: /*since=*\n",
            "Disallow: /*until=*\n",
            "Disallow: /*commits?author=*\n",
            "Disallow: /*report-abuse?report=*\n",
            "Disallow: /*tab=*\n",
            "Allow: /*?tab=achievements&achievement=*\n",
            "\n",
            "Disallow: /account-login\n",
            "Disallow: /Explodingstuff/\n",
            "\n",
            "\n"
          ]
        }
      ]
    },
    {
      "cell_type": "markdown",
      "source": [
        "## Extração dos dados da página do Github"
      ],
      "metadata": {
        "id": "GnDu5Av3oN5H"
      }
    },
    {
      "cell_type": "code",
      "source": [
        "conteudo = None\n",
        "URL = 'https://github.com/trending'\n",
        "\n",
        "try:\n",
        " resposta = requests.get(URL)\n",
        " resposta.raise_for_status()\n",
        "except HTTPError as exc:\n",
        " print(exc)\n",
        "else:\n",
        " conteudo = resposta.text"
      ],
      "metadata": {
        "id": "KHEB75HBoOmj"
      },
      "execution_count": 3,
      "outputs": []
    },
    {
      "cell_type": "markdown",
      "source": [
        "## Manipulação e gravação"
      ],
      "metadata": {
        "id": "a0r_qifGoUA3"
      }
    },
    {
      "cell_type": "code",
      "source": [
        "pagina = soup(conteudo, 'html.parser')\n",
        "top10 = pagina.find_all('span', class_='text-normal')\n",
        "\n",
        "with open(file='github.csv', mode='w', encoding='utf8') as file:\n",
        "    writer = csv.writer(file, delimiter=';')\n",
        "    writer.writerow([\"Posição\", \"Repositório\"])\n",
        "\n",
        "    for i in range(1,11):\n",
        "        txt = top10[i].text.replace(\" \", \"\").replace(\"/\", \"\").strip()\n",
        "        writer.writerow([i,txt])\n",
        "        print(f\"{i}-{txt}\")"
      ],
      "metadata": {
        "colab": {
          "base_uri": "https://localhost:8080/"
        },
        "id": "AXFEi5dpoSBt",
        "outputId": "d9af6eae-8ec1-4f03-8ebd-e68e79b90d74"
      },
      "execution_count": 7,
      "outputs": [
        {
          "output_type": "stream",
          "name": "stdout",
          "text": [
            "1-DaoCloud\n",
            "2-idootop\n",
            "3-cloudcommunity\n",
            "4-apple\n",
            "5-apple\n",
            "6-codecrafters-io\n",
            "7-coollabsio\n",
            "8-karpathy\n",
            "9-xenova\n",
            "10-litestar-org\n"
          ]
        }
      ]
    }
  ]
}