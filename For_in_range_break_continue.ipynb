{
  "nbformat": 4,
  "nbformat_minor": 0,
  "metadata": {
    "colab": {
      "provenance": [],
      "authorship_tag": "ABX9TyP8V0m6xQ+PeAIlCmkQfLmg",
      "include_colab_link": true
    },
    "kernelspec": {
      "name": "python3",
      "display_name": "Python 3"
    },
    "language_info": {
      "name": "python"
    }
  },
  "cells": [
    {
      "cell_type": "markdown",
      "metadata": {
        "id": "view-in-github",
        "colab_type": "text"
      },
      "source": [
        "<a href=\"https://colab.research.google.com/github/DiBevilacqua/DiBevilacqua/blob/main/For_in_range_break_continue.ipynb\" target=\"_parent\"><img src=\"https://colab.research.google.com/assets/colab-badge.svg\" alt=\"Open In Colab\"/></a>"
      ]
    },
    {
      "cell_type": "markdown",
      "source": [
        "Estruturas de repetição For/in\n",
        "\n",
        "estrutura que permite a execução repetida de um bloco de codigo repetidas vezes"
      ],
      "metadata": {
        "id": "RV5hnccVxMCJ"
      }
    },
    {
      "cell_type": "code",
      "execution_count": 9,
      "metadata": {
        "colab": {
          "base_uri": "https://localhost:8080/"
        },
        "id": "0r8QgGmCxKRm",
        "outputId": "0615df50-2bb3-44be-92a7-832acfbdb30a"
      },
      "outputs": [
        {
          "output_type": "stream",
          "name": "stdout",
          "text": [
            "0\n",
            "1\n",
            "2\n",
            "3\n",
            "4\n",
            "5\n"
          ]
        }
      ],
      "source": [
        "#for varialvel_temporaria in coleção : <execute este codigo>\n",
        "#for/in/range\n",
        "#estrutura que permite a execução reeptida de um bloco de codigo n vezes\n",
        "\n",
        "for valor in range(6):\n",
        "  print(valor)"
      ]
    },
    {
      "cell_type": "code",
      "source": [
        "soma = 0\n",
        "for valor in range(0, 10):\n",
        "  soma = soma + valor\n",
        "\n",
        "print(soma)"
      ],
      "metadata": {
        "colab": {
          "base_uri": "https://localhost:8080/"
        },
        "id": "iSlsz9ggyUL1",
        "outputId": "26dc9ae0-4afa-47c1-f7c3-ba31885e1405"
      },
      "execution_count": 13,
      "outputs": [
        {
          "output_type": "stream",
          "name": "stdout",
          "text": [
            "45\n"
          ]
        }
      ]
    },
    {
      "cell_type": "code",
      "source": [
        "for multiplos_dois in range(2, 10, 2):\n",
        "  print(multiplos_dois)"
      ],
      "metadata": {
        "colab": {
          "base_uri": "https://localhost:8080/"
        },
        "id": "emzJXy70y2j7",
        "outputId": "c5b0b177-6d81-4862-bcf5-0561f1d456c3"
      },
      "execution_count": 7,
      "outputs": [
        {
          "output_type": "stream",
          "name": "stdout",
          "text": [
            "2\n",
            "4\n",
            "6\n",
            "8\n"
          ]
        }
      ]
    },
    {
      "cell_type": "code",
      "source": [
        "#for/in/list\n",
        "#estrutura que permite a execução de um bloco de codigo para todos os elementos de uma lista\n",
        "\n",
        "frutas = ['maca', 'banana', 'laranja', 'uva', 'pera']\n",
        "\n",
        "for fruta in frutas:\n",
        "  print(fruta)"
      ],
      "metadata": {
        "colab": {
          "base_uri": "https://localhost:8080/"
        },
        "id": "DlACBfXy04ff",
        "outputId": "0ca5c0f8-024d-4261-c938-c5c90351ac5d"
      },
      "execution_count": 14,
      "outputs": [
        {
          "output_type": "stream",
          "name": "stdout",
          "text": [
            "maca\n",
            "banana\n",
            "laranja\n",
            "uva\n",
            "pera\n"
          ]
        }
      ]
    },
    {
      "cell_type": "code",
      "source": [
        "frase = 'fala pessoal, meu nome é Andre Perez .'\n",
        "\n",
        "for caracter in frase:\n",
        "  if (caracter == 'A') | (caracter == 'z'):\n",
        "    print(f'A letra \"{caracter}'' está presente na frase')"
      ],
      "metadata": {
        "colab": {
          "base_uri": "https://localhost:8080/"
        },
        "id": "eu5txPwF17gd",
        "outputId": "0d926807-bd4c-45fc-8d36-ece9dd6b99a2"
      },
      "execution_count": 25,
      "outputs": [
        {
          "output_type": "stream",
          "name": "stdout",
          "text": [
            "A letra \"A está presente na frase\n",
            "A letra \"z está presente na frase\n"
          ]
        }
      ]
    },
    {
      "cell_type": "code",
      "source": [
        "#for/in/dict\n",
        "#estrutura que permite a execução de um bloco de codigo para todos os elementos de um dicionario\n",
        "\n",
        "credito = {'123': 750, '456': 812, '789': 980}\n",
        "\n",
        "for chave, valor in credito.items():\n",
        "  print(f'Para o documento {chave}, o valor do escore de credito é {valor}.')\n",
        "  print('\\n')"
      ],
      "metadata": {
        "colab": {
          "base_uri": "https://localhost:8080/"
        },
        "id": "bl2L_kSg39xT",
        "outputId": "272f3158-887f-4280-e315-b55f9bb86857"
      },
      "execution_count": 27,
      "outputs": [
        {
          "output_type": "stream",
          "name": "stdout",
          "text": [
            "Para o documento 123, o valor do escore de credito é 750.\n",
            "\n",
            "\n",
            "Para o documento 456, o valor do escore de credito é 812.\n",
            "\n",
            "\n",
            "Para o documento 789, o valor do escore de credito é 980.\n",
            "\n",
            "\n"
          ]
        }
      ]
    },
    {
      "cell_type": "code",
      "source": [
        "for chave in credito.keys():\n",
        "  print(chave)\n",
        "  print(credito[chave])\n",
        "  print(f'Para o documento {chave}, o valor do escore de credito e {credito[chave]}.')\n",
        "  print('\\n')"
      ],
      "metadata": {
        "colab": {
          "base_uri": "https://localhost:8080/"
        },
        "id": "TvfamIcA5Lvo",
        "outputId": "c71b2845-852f-4595-dc09-acf9cc444312"
      },
      "execution_count": 30,
      "outputs": [
        {
          "output_type": "stream",
          "name": "stdout",
          "text": [
            "123\n",
            "750\n",
            "Para o documento 123, o valor do escore de credito e 750.\n",
            "\n",
            "\n",
            "456\n",
            "812\n",
            "Para o documento 456, o valor do escore de credito e 812.\n",
            "\n",
            "\n",
            "789\n",
            "980\n",
            "Para o documento 789, o valor do escore de credito e 980.\n",
            "\n",
            "\n"
          ]
        }
      ]
    },
    {
      "cell_type": "code",
      "source": [
        "for valor in credito.values():\n",
        "  print(valor)\n",
        "  print(f'o valor do escore de credito e {valor}, mais nao temos mais as chaves:(.')\n",
        "  print('\\n')\n"
      ],
      "metadata": {
        "colab": {
          "base_uri": "https://localhost:8080/"
        },
        "id": "3OP1mtMA6Wwc",
        "outputId": "8966fb98-7992-4811-98b1-1ef5aa9fcef4"
      },
      "execution_count": 31,
      "outputs": [
        {
          "output_type": "stream",
          "name": "stdout",
          "text": [
            "750\n",
            "o valor do escore de credito e 750, mais nao temos mais as chaves:(.\n",
            "\n",
            "\n",
            "812\n",
            "o valor do escore de credito e 812, mais nao temos mais as chaves:(.\n",
            "\n",
            "\n",
            "980\n",
            "o valor do escore de credito e 980, mais nao temos mais as chaves:(.\n",
            "\n",
            "\n"
          ]
        }
      ]
    },
    {
      "cell_type": "code",
      "source": [
        "#break/continue\n",
        "\n",
        "for i in range(0, 10*10*10*10*10*10):\n",
        "  print(i)\n",
        "  if i== 2:\n",
        "    break"
      ],
      "metadata": {
        "colab": {
          "base_uri": "https://localhost:8080/"
        },
        "id": "_UxuGuZ461oU",
        "outputId": "99aad424-cdbe-4233-82f7-bf4fb4d81fb3"
      },
      "execution_count": 36,
      "outputs": [
        {
          "output_type": "stream",
          "name": "stdout",
          "text": [
            "0\n",
            "1\n",
            "2\n"
          ]
        }
      ]
    },
    {
      "cell_type": "code",
      "source": [
        "numero = 10\n",
        "\n",
        "if numero % 2 == 0:\n",
        "  print(f'o numero {numero} e Par')\n",
        "else:\n",
        "    print(f'o numero {numero} e impar')"
      ],
      "metadata": {
        "colab": {
          "base_uri": "https://localhost:8080/"
        },
        "id": "5iTDZfsF7Vkt",
        "outputId": "edfbb435-88fb-4b7b-cf52-108f3a36a9ce"
      },
      "execution_count": 38,
      "outputs": [
        {
          "output_type": "stream",
          "name": "stdout",
          "text": [
            "o numero 10 e Par\n"
          ]
        }
      ]
    },
    {
      "cell_type": "code",
      "source": [
        "numeros = [361, 553, 194, 13, 510, 33, 135]\n",
        "\n",
        "for numero in numeros:\n",
        "\n",
        "  if numero % 2 == 0:\n",
        "    print(f'o numero {numero} é par')\n",
        "    break\n",
        "  else:\n",
        "    print(f'o numero {numero} é impar')"
      ],
      "metadata": {
        "colab": {
          "base_uri": "https://localhost:8080/"
        },
        "id": "MRCTfc7F70YE",
        "outputId": "03cfe1a0-57ef-42c9-8e4e-08be851e8c57"
      },
      "execution_count": 39,
      "outputs": [
        {
          "output_type": "stream",
          "name": "stdout",
          "text": [
            "o numero 361 é impar\n",
            "o numero 553 é impar\n",
            "o numero 194 é par\n"
          ]
        }
      ]
    },
    {
      "cell_type": "code",
      "source": [
        "numeros = [361, 553, 194, 13, 510, 33, 135]\n",
        "\n",
        "for numero in numeros:\n",
        "\n",
        "  if numero % 2 == 0:\n",
        "    print(f'o numero {numero} é par')\n",
        "    break\n",
        "  else:\n",
        "    continue\n",
        "    print(f'o numero {numero} é impar')"
      ],
      "metadata": {
        "colab": {
          "base_uri": "https://localhost:8080/"
        },
        "id": "shoVoZzs8cgl",
        "outputId": "6d96a0e7-5a11-4f54-883d-f1374260aac9"
      },
      "execution_count": 40,
      "outputs": [
        {
          "output_type": "stream",
          "name": "stdout",
          "text": [
            "o numero 194 é par\n"
          ]
        }
      ]
    }
  ]
}