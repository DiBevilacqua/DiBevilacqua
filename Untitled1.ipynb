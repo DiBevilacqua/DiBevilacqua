{
  "nbformat": 4,
  "nbformat_minor": 0,
  "metadata": {
    "colab": {
      "provenance": [],
      "authorship_tag": "ABX9TyMqbXdswdT8ad4yeZzZB1Z4",
      "include_colab_link": true
    },
    "kernelspec": {
      "name": "python3",
      "display_name": "Python 3"
    },
    "language_info": {
      "name": "python"
    }
  },
  "cells": [
    {
      "cell_type": "markdown",
      "metadata": {
        "id": "view-in-github",
        "colab_type": "text"
      },
      "source": [
        "<a href=\"https://colab.research.google.com/github/DiBevilacqua/DiBevilacqua/blob/main/Untitled1.ipynb\" target=\"_parent\"><img src=\"https://colab.research.google.com/assets/colab-badge.svg\" alt=\"Open In Colab\"/></a>"
      ]
    },
    {
      "cell_type": "markdown",
      "source": [
        "tipos variaveis (int=inteiro)(float=flutuante)"
      ],
      "metadata": {
        "id": "RtL7ZLbrchcz"
      }
    },
    {
      "cell_type": "code",
      "execution_count": 6,
      "metadata": {
        "colab": {
          "base_uri": "https://localhost:8080/"
        },
        "id": "w-FvwWPqYNj5",
        "outputId": "1494f002-6158-4704-8066-91bb3d72711f"
      },
      "outputs": [
        {
          "output_type": "stream",
          "name": "stdout",
          "text": [
            "1000\n",
            "<class 'int'>\n",
            "0.05\n",
            "<class 'float'>\n"
          ]
        }
      ],
      "source": [
        "preco = 1000\n",
        "tipo_preco = type(preco)\n",
        "\n",
        "print(preco)\n",
        "print(tipo_preco)\n",
        "\n",
        "juros = 0.05\n",
        "tipo_juros = type(juros)\n",
        "\n",
        "print(juros)\n",
        "print(tipo_juros)"
      ]
    },
    {
      "cell_type": "markdown",
      "source": [
        "Tipo variaveis (Str) strings"
      ],
      "metadata": {
        "id": "p4p6ICD_cuyv"
      }
    },
    {
      "cell_type": "code",
      "source": [
        "primeiro_nome = \"Diego\"\n",
        "print(primeiro_nome)\n",
        "print(type(primeiro_nome))\n",
        "\n",
        "pais = \"Brasil\"\n",
        "print(pais)\n",
        "print(type(pais))\n",
        "\n",
        "\n"
      ],
      "metadata": {
        "colab": {
          "base_uri": "https://localhost:8080/"
        },
        "id": "cpzkU4JPahRx",
        "outputId": "7ae00d66-3e91-4242-8952-3f97b6bc23a3"
      },
      "execution_count": 11,
      "outputs": [
        {
          "output_type": "stream",
          "name": "stdout",
          "text": [
            "Diego\n",
            "<class 'str'>\n",
            "Brasil\n",
            "<class 'str'>\n"
          ]
        }
      ]
    },
    {
      "cell_type": "markdown",
      "source": [
        "tipos logicos : booleanos"
      ],
      "metadata": {
        "id": "Vta7tRn2cIPq"
      }
    },
    {
      "cell_type": "code",
      "source": [
        "usuaria_maior_de_idade =False\n",
        "print(usuaria_maior_de_idade)\n",
        "print(type(usuaria_maior_de_idade))"
      ],
      "metadata": {
        "colab": {
          "base_uri": "https://localhost:8080/"
        },
        "id": "5dGADHoFbm8e",
        "outputId": "fd903af9-861c-4a55-9cb1-676a4880698c"
      },
      "execution_count": 15,
      "outputs": [
        {
          "output_type": "stream",
          "name": "stdout",
          "text": [
            "False\n",
            "<class 'bool'>\n"
          ]
        }
      ]
    },
    {
      "cell_type": "markdown",
      "source": [
        "Tipo vazio(Nonetype)"
      ],
      "metadata": {
        "id": "U3a6PcN_dXm2"
      }
    },
    {
      "cell_type": "code",
      "source": [
        "telefone_fixo = None\n",
        "print(telefone_fixo)\n",
        "print(type(telefone_fixo))"
      ],
      "metadata": {
        "colab": {
          "base_uri": "https://localhost:8080/"
        },
        "id": "JAr1TOnRdpEp",
        "outputId": "19a73b48-4eb2-45c1-d0b4-b3b0ee0503c3"
      },
      "execution_count": 17,
      "outputs": [
        {
          "output_type": "stream",
          "name": "stdout",
          "text": [
            "None\n",
            "<class 'NoneType'>\n"
          ]
        }
      ]
    },
    {
      "cell_type": "code",
      "source": [
        "print(type(37))\n",
        "print(type(25.2))\n",
        "print(type(1+2j))"
      ],
      "metadata": {
        "colab": {
          "base_uri": "https://localhost:8080/"
        },
        "id": "nFp2tSm3hbON",
        "outputId": "969f2ad1-ead1-4891-8354-ed87b4e89eb3"
      },
      "execution_count": 18,
      "outputs": [
        {
          "output_type": "stream",
          "name": "stdout",
          "text": [
            "<class 'int'>\n",
            "<class 'float'>\n",
            "<class 'complex'>\n"
          ]
        }
      ]
    },
    {
      "cell_type": "code",
      "source": [
        "quantidade_intens_carrinho_compra = 0\n",
        "quantidade_intens_carrinho_compra = quantidade_intens_carrinho_compra + 1\n",
        "print(quantidade_intens_carrinho_compra)\n",
        "\n",
        "quantidade_intens_carrinho_compra = quantidade_intens_carrinho_compra + 1\n",
        "print(quantidade_intens_carrinho_compra)"
      ],
      "metadata": {
        "colab": {
          "base_uri": "https://localhost:8080/"
        },
        "id": "mfw7Yl_ZjGNj",
        "outputId": "32677167-65ce-4f16-f7c6-4c76b4cdf4a6"
      },
      "execution_count": 26,
      "outputs": [
        {
          "output_type": "stream",
          "name": "stdout",
          "text": [
            "1\n",
            "2\n"
          ]
        }
      ]
    },
    {
      "cell_type": "code",
      "source": [
        "quantidade_intens_carrinho_compra = 0\n",
        "quantidade_intens_carrinho_compra  +=1\n",
        "print(quantidade_intens_carrinho_compra)\n",
        "\n",
        "quantidade_intens_carrinho_compra  +=1\n",
        "print(quantidade_intens_carrinho_compra)"
      ],
      "metadata": {
        "colab": {
          "base_uri": "https://localhost:8080/"
        },
        "id": "o1dlzDfcj9AD",
        "outputId": "a3f20d5d-2157-442a-9d81-102248fef9f1"
      },
      "execution_count": 27,
      "outputs": [
        {
          "output_type": "stream",
          "name": "stdout",
          "text": [
            "1\n",
            "2\n"
          ]
        }
      ]
    },
    {
      "cell_type": "code",
      "source": [
        "preco = 47\n",
        "quantidade = 0.250\n",
        "total_a_pagar= preco * quantidade\n",
        "print(total_a_pagar)"
      ],
      "metadata": {
        "colab": {
          "base_uri": "https://localhost:8080/"
        },
        "id": "7ETN5UkJl2UA",
        "outputId": "4c9bcc37-0cb6-453c-fb5b-9d4663ec6a06"
      },
      "execution_count": 30,
      "outputs": [
        {
          "output_type": "stream",
          "name": "stdout",
          "text": [
            "11.75\n"
          ]
        }
      ]
    },
    {
      "cell_type": "code",
      "source": [
        "a = 3\n",
        "b = 2\n",
        "\n",
        "c = a/b\n",
        "print(c)\n",
        "print(type(c))\n",
        "\n",
        "d= a//b\n",
        "print(d)\n",
        "print(type(d))\n",
        "\n"
      ],
      "metadata": {
        "colab": {
          "base_uri": "https://localhost:8080/"
        },
        "id": "jeNbm8Txmzf4",
        "outputId": "2c89067b-1e85-4672-9bf3-b3be0ba0bff4"
      },
      "execution_count": 31,
      "outputs": [
        {
          "output_type": "stream",
          "name": "stdout",
          "text": [
            "1.5\n",
            "<class 'float'>\n",
            "1\n",
            "<class 'int'>\n"
          ]
        }
      ]
    },
    {
      "cell_type": "markdown",
      "source": [
        "conversão"
      ],
      "metadata": {
        "id": "NRRN-U1Unh0W"
      }
    },
    {
      "cell_type": "code",
      "source": [
        "print(int(3.9))\n",
        "print(float(10))\n",
        "print(complex(1))"
      ],
      "metadata": {
        "colab": {
          "base_uri": "https://localhost:8080/"
        },
        "id": "kFxktkdynmOy",
        "outputId": "09d31158-159f-4f71-f87b-9e85f02a0ded"
      },
      "execution_count": 32,
      "outputs": [
        {
          "output_type": "stream",
          "name": "stdout",
          "text": [
            "3\n",
            "10.0\n",
            "(1+0j)\n"
          ]
        }
      ]
    },
    {
      "cell_type": "markdown",
      "source": [
        "1. Motivação Você precisa descobrir o ticket médio diário (tkt) do seu restaurante. A métrica é calculada pela soma do valor das vendas (svv) de um mesmo dia, dividido pela quantidade de vendas (sqv), também de um mesmo dia. $tkt= svv/ sqv$"
      ],
      "metadata": {
        "id": "TvMPQcpjoZEX"
      }
    },
    {
      "cell_type": "code",
      "source": [
        "svv_19 = 153.98\n",
        "sqv_19 = 3\n",
        "\n",
        "tkt_19 = svv_19 / sqv_19\n",
        "print(tkt_19)"
      ],
      "metadata": {
        "colab": {
          "base_uri": "https://localhost:8080/"
        },
        "id": "JF0WYJWXoa_T",
        "outputId": "73007fdf-d329-48e2-e96c-9bb8243d288c"
      },
      "execution_count": 33,
      "outputs": [
        {
          "output_type": "stream",
          "name": "stdout",
          "text": [
            "51.32666666666666\n"
          ]
        }
      ]
    },
    {
      "cell_type": "code",
      "source": [
        "svv_20 = 337.01\n",
        "sqv_20 = 7\n",
        "\n",
        "tkt_20 = svv_20 / sqv_20\n",
        "print(tkt_20)"
      ],
      "metadata": {
        "colab": {
          "base_uri": "https://localhost:8080/"
        },
        "id": "-Vo3ZYImpDUS",
        "outputId": "dd2a2341-7108-4a60-bfd5-40c414a3d30d"
      },
      "execution_count": 37,
      "outputs": [
        {
          "output_type": "stream",
          "name": "stdout",
          "text": [
            "48.144285714285715\n"
          ]
        }
      ]
    },
    {
      "cell_type": "code",
      "source": [
        "svv_23 = 295.33\n",
        "sqv_23 = 5\n",
        "\n",
        "tkt_23 = svv_23 / sqv_23\n",
        "print(tkt_23)"
      ],
      "metadata": {
        "colab": {
          "base_uri": "https://localhost:8080/"
        },
        "id": "SE0DGjRVpTZ2",
        "outputId": "2e819175-454c-4122-d58f-2dfcad2f1e72"
      },
      "execution_count": 35,
      "outputs": [
        {
          "output_type": "stream",
          "name": "stdout",
          "text": [
            "59.065999999999995\n"
          ]
        }
      ]
    },
    {
      "cell_type": "code",
      "source": [
        "tkt= (tkt_19 + tkt_20 + tkt_23) /3\n",
        "print(tkt)"
      ],
      "metadata": {
        "colab": {
          "base_uri": "https://localhost:8080/"
        },
        "id": "hd3DOLPApkwy",
        "outputId": "be3ea3cd-5f48-4541-e1c8-f8aadcb34016"
      },
      "execution_count": 38,
      "outputs": [
        {
          "output_type": "stream",
          "name": "stdout",
          "text": [
            "52.8456507936508\n"
          ]
        }
      ]
    },
    {
      "cell_type": "markdown",
      "source": [
        "1. Motivação A empresa que você trabalha adquiriu uma startup de logística. Você precisa identificar todos endereços que são comum a ambas. Na sua empresa, você armazena a latitude e longitude dos endereços em duas variáveis late lon, já a startupadquirida em uma única variável latlon."
      ],
      "metadata": {
        "id": "rSaWDQxNtBML"
      }
    },
    {
      "cell_type": "code",
      "source": [
        "# sua empresa\n",
        "lat = '-22.005320'\n",
        "lon = '-47.891040'\n",
        "# startup adquirida\n",
        "latlon = '-22.005320;-47.891040'"
      ],
      "metadata": {
        "id": "aJ0Gcx3-tDMK"
      },
      "execution_count": 41,
      "outputs": []
    },
    {
      "cell_type": "code",
      "source": [
        "nome_aula = \"Aula 04, Modulo 01 , Strings\"\n",
        "\n",
        "print(nome_aula)\n",
        "print(type(nome_aula))"
      ],
      "metadata": {
        "colab": {
          "base_uri": "https://localhost:8080/"
        },
        "id": "Gf3CiU7Ytm4U",
        "outputId": "e412c572-5298-4454-ac53-9d3d71387215"
      },
      "execution_count": 42,
      "outputs": [
        {
          "output_type": "stream",
          "name": "stdout",
          "text": [
            "Aula 04, Modulo 01 , Strings\n",
            "<class 'str'>\n"
          ]
        }
      ]
    },
    {
      "cell_type": "code",
      "source": [
        "string_vazia = \"Diego\"\n",
        "print(string_vazia)\n",
        "print(type(string_vazia))"
      ],
      "metadata": {
        "colab": {
          "base_uri": "https://localhost:8080/"
        },
        "id": "OXZJN9sWuCL1",
        "outputId": "1ddc0161-4b54-4057-8a06-8e19db2b86a0"
      },
      "execution_count": 45,
      "outputs": [
        {
          "output_type": "stream",
          "name": "stdout",
          "text": [
            "Diego\n",
            "<class 'str'>\n"
          ]
        }
      ]
    },
    {
      "cell_type": "code",
      "source": [
        "nome = \"Diego\"\n",
        "sobrenome = \"Bevilacqua\"\n",
        "\n",
        "apresentacao = ' ola, meu nome e ' +nome+ ' '+sobrenome+ '.'\n",
        "print(apresentacao)"
      ],
      "metadata": {
        "colab": {
          "base_uri": "https://localhost:8080/"
        },
        "id": "sV2sGkWPul3i",
        "outputId": "ec53c9a1-a170-4563-832e-4bddf871af32"
      },
      "execution_count": 54,
      "outputs": [
        {
          "output_type": "stream",
          "name": "stdout",
          "text": [
            " ola, meu nome e Diego Bevilacqua.\n"
          ]
        }
      ]
    },
    {
      "cell_type": "code",
      "source": [
        "nome =\"Diego\"\n",
        "sobrenome = \"bevilacqua\"\n",
        "\n",
        "apresentacao = f'ola, meu nome é {nome} {sobrenome}.'\n",
        "print(apresentacao)"
      ],
      "metadata": {
        "colab": {
          "base_uri": "https://localhost:8080/"
        },
        "id": "eqaevW6PvcOL",
        "outputId": "b2766194-22c4-4f3c-e052-9ac0184ff896"
      },
      "execution_count": 55,
      "outputs": [
        {
          "output_type": "stream",
          "name": "stdout",
          "text": [
            "ola, meu nome é Diego bevilacqua.\n"
          ]
        }
      ]
    },
    {
      "cell_type": "code",
      "source": [
        "email = \"dih_bevilacqua@hotmail.com\"\n",
        "\n",
        "print('0: ' + email[0])\n",
        "print('11: ' + email[11])"
      ],
      "metadata": {
        "colab": {
          "base_uri": "https://localhost:8080/"
        },
        "id": "K5HzWFyTwtlX",
        "outputId": "96ad4b35-13fe-43b4-94db-71997a715fc7"
      },
      "execution_count": 56,
      "outputs": [
        {
          "output_type": "stream",
          "name": "stdout",
          "text": [
            "0: d\n",
            "11: q\n"
          ]
        }
      ]
    },
    {
      "cell_type": "code",
      "source": [
        "print('-1: ' + email[-1])\n",
        "print('-2: ' + email[-2])"
      ],
      "metadata": {
        "colab": {
          "base_uri": "https://localhost:8080/"
        },
        "id": "Ebl135Owx0RH",
        "outputId": "7c85dc08-9011-4eaa-9475-9dcc82eaf942"
      },
      "execution_count": 57,
      "outputs": [
        {
          "output_type": "stream",
          "name": "stdout",
          "text": [
            "-1: m\n",
            "-2: o\n"
          ]
        }
      ]
    },
    {
      "cell_type": "code",
      "source": [
        "email_usuario = email[0:14]\n",
        "print(email_usuario)\n",
        "\n",
        "email_provedor = email[14:26]\n",
        "print(email_provedor)"
      ],
      "metadata": {
        "colab": {
          "base_uri": "https://localhost:8080/"
        },
        "id": "nIRqH4NIyldt",
        "outputId": "5c7c24ac-f64d-41dd-b814-dc0021bfcc24"
      },
      "execution_count": 61,
      "outputs": [
        {
          "output_type": "stream",
          "name": "stdout",
          "text": [
            "dih_bevilacqua\n",
            "@hotmail.com\n"
          ]
        }
      ]
    },
    {
      "cell_type": "markdown",
      "source": [],
      "metadata": {
        "id": "AZmNYWrl0OX5"
      }
    },
    {
      "cell_type": "code",
      "source": [
        "#maisculo endereco.upper()\n",
        "\n",
        "endereco = \"Rua Doutor rubino de oliveira, 390, Sorocaba-SP, Brasil\"\n",
        "print(endereco.upper())"
      ],
      "metadata": {
        "colab": {
          "base_uri": "https://localhost:8080/"
        },
        "id": "B6ZB0i9OzwNy",
        "outputId": "50e11cb7-f836-4ffa-8826-885e39f79dc3"
      },
      "execution_count": 64,
      "outputs": [
        {
          "output_type": "stream",
          "name": "stdout",
          "text": [
            "RUA DOUTOR RUBINO DE OLIVEIRA, 390, SOROCABA-SP, BRASIL\n"
          ]
        }
      ]
    },
    {
      "cell_type": "code",
      "source": [
        "# posição : string.find(substring)\n",
        "\n",
        "posicao = endereco.find('Rua')\n",
        "print(posicao)"
      ],
      "metadata": {
        "colab": {
          "base_uri": "https://localhost:8080/"
        },
        "id": "XL7XC3GD0Z9s",
        "outputId": "ea2bfa3e-ae43-458f-8e60-1db8c7590069"
      },
      "execution_count": 68,
      "outputs": [
        {
          "output_type": "stream",
          "name": "stdout",
          "text": [
            "0\n"
          ]
        }
      ]
    },
    {
      "cell_type": "code",
      "source": [
        "# substituição: string.replace(antigo, novo)\n",
        "print(endereco.replace('Rua',  'R'))"
      ],
      "metadata": {
        "colab": {
          "base_uri": "https://localhost:8080/"
        },
        "id": "JSHZWxBL1IOP",
        "outputId": "5dc4818b-bfe7-4fe4-f456-563ff78da932"
      },
      "execution_count": 69,
      "outputs": [
        {
          "output_type": "stream",
          "name": "stdout",
          "text": [
            "R Doutor rubino de oliveira, 390, Sorocaba-SP, Brasil\n"
          ]
        }
      ]
    },
    {
      "cell_type": "code",
      "source": [
        "idade = 19\n",
        "print(type(idade))\n",
        "\n",
        "idade = str(idade)\n",
        "print(type(idade))"
      ],
      "metadata": {
        "colab": {
          "base_uri": "https://localhost:8080/"
        },
        "id": "EXAKvyrt2nT1",
        "outputId": "4102c1cb-3271-4d89-a265-a282126ba008"
      },
      "execution_count": 72,
      "outputs": [
        {
          "output_type": "stream",
          "name": "stdout",
          "text": [
            "<class 'int'>\n",
            "<class 'str'>\n"
          ]
        }
      ]
    },
    {
      "cell_type": "code",
      "source": [
        "faturamento = 'R$ 35 mi '\n",
        "print(faturamento)\n",
        "print(type(faturamento))\n",
        "\n",
        "faturamento = int(faturamento[3:5])\n",
        "print(faturamento)\n",
        "print(type(faturamento))"
      ],
      "metadata": {
        "colab": {
          "base_uri": "https://localhost:8080/"
        },
        "id": "L9_GGjTu3HFm",
        "outputId": "31e51a87-31d7-4854-bd50-7d2ff35959c7"
      },
      "execution_count": 75,
      "outputs": [
        {
          "output_type": "stream",
          "name": "stdout",
          "text": [
            "R$ 35 mi \n",
            "<class 'str'>\n",
            "35\n",
            "<class 'int'>\n"
          ]
        }
      ]
    },
    {
      "cell_type": "code",
      "source": [
        "posicao_char_divisao = latlon.find(';')\n",
        "print(posicao_char_divisao)\n",
        "\n",
        "lat_startup = latlon[0:posicao_char_divisao]\n",
        "print(lat_startup)\n",
        "\n",
        "lon_startup = latlon[posicao_char_divisao+1:len(latlon)]\n",
        "print(lon_startup)"
      ],
      "metadata": {
        "colab": {
          "base_uri": "https://localhost:8080/"
        },
        "id": "7ydtaFDG4SWr",
        "outputId": "413054f3-f7c5-41d3-b985-f8f75156177d"
      },
      "execution_count": 77,
      "outputs": [
        {
          "output_type": "stream",
          "name": "stdout",
          "text": [
            "10\n",
            "-22.005320\n",
            "-47.891040\n"
          ]
        }
      ]
    },
    {
      "cell_type": "markdown",
      "source": [
        "modulo 01\n",
        "variaveis e tipos de Dados"
      ],
      "metadata": {
        "id": "5wqEyExDTZvV"
      }
    },
    {
      "cell_type": "code",
      "source": [
        "verdadeiro = True\n",
        "print(verdadeiro)\n",
        "\n",
        "falso = False\n",
        "print(falso)"
      ],
      "metadata": {
        "colab": {
          "base_uri": "https://localhost:8080/"
        },
        "id": "gQ9R1itFTgRN",
        "outputId": "fde45032-023a-4ca1-df0b-653e085b0398"
      },
      "execution_count": 1,
      "outputs": [
        {
          "output_type": "stream",
          "name": "stdout",
          "text": [
            "True\n",
            "False\n"
          ]
        }
      ]
    },
    {
      "cell_type": "markdown",
      "source": [
        "exemplo caixa eletronico\n",
        "  "
      ],
      "metadata": {
        "id": "cTglixSCVPFf"
      }
    },
    {
      "cell_type": "code",
      "source": [
        "saldo_conta_corrente = 200\n",
        "valor_saque = 100\n",
        "\n",
        "pode_executar_saque = valor_saque <= saldo_conta_corrente\n",
        "print(pode_executar_saque)"
      ],
      "metadata": {
        "colab": {
          "base_uri": "https://localhost:8080/"
        },
        "id": "nF44IEZ7VR_b",
        "outputId": "6edca843-3252-4728-fde0-694bdc93ce3b"
      },
      "execution_count": 4,
      "outputs": [
        {
          "output_type": "stream",
          "name": "stdout",
          "text": [
            "True\n"
          ]
        }
      ]
    },
    {
      "cell_type": "code",
      "source": [
        "codigo_de_seguranca = '852'\n",
        "codigo_de_seguranca_cadastro = '010'\n",
        "\n",
        "pode_efetuar_pagamento = codigo_de_seguranca == codigo_de_seguranca_cadastro\n",
        "print(pode_efeturar_pagamento)"
      ],
      "metadata": {
        "colab": {
          "base_uri": "https://localhost:8080/"
        },
        "id": "1ul25l-iWC6J",
        "outputId": "8689c3ca-2fc2-434b-f246-eaeacab34197"
      },
      "execution_count": 10,
      "outputs": [
        {
          "output_type": "stream",
          "name": "stdout",
          "text": [
            "False\n"
          ]
        }
      ]
    },
    {
      "cell_type": "code",
      "source": [
        "print(True | True)\n",
        "print(True | False)\n",
        "print(False | False)\n",
        "print(False | True)"
      ],
      "metadata": {
        "colab": {
          "base_uri": "https://localhost:8080/"
        },
        "id": "AYfyvZVaXwe1",
        "outputId": "14c370f4-42d5-4797-f724-6ee4f663fb9f"
      },
      "execution_count": 11,
      "outputs": [
        {
          "output_type": "stream",
          "name": "stdout",
          "text": [
            "True\n",
            "True\n",
            "False\n",
            "True\n"
          ]
        }
      ]
    },
    {
      "cell_type": "code",
      "source": [
        "print(True & True)\n",
        "print(True & False)\n",
        "print(False & False)\n",
        "print(False & True)"
      ],
      "metadata": {
        "colab": {
          "base_uri": "https://localhost:8080/"
        },
        "id": "lH6i6U_PYMtv",
        "outputId": "2a1f9482-9103-4b5b-e645-cb887680a933"
      },
      "execution_count": 12,
      "outputs": [
        {
          "output_type": "stream",
          "name": "stdout",
          "text": [
            "True\n",
            "False\n",
            "False\n",
            "False\n"
          ]
        }
      ]
    },
    {
      "cell_type": "code",
      "source": [
        "print(not True)\n",
        "print(not False)"
      ],
      "metadata": {
        "colab": {
          "base_uri": "https://localhost:8080/"
        },
        "id": "uClRnTOMYPOu",
        "outputId": "91c912c9-dd71-4077-d38d-f00cb9b1dcae"
      },
      "execution_count": 13,
      "outputs": [
        {
          "output_type": "stream",
          "name": "stdout",
          "text": [
            "False\n",
            "True\n"
          ]
        }
      ]
    },
    {
      "cell_type": "code",
      "source": [
        "idade = 19\n",
        "tipo_sangue = 'o-'\n",
        "filhos = 0\n",
        "telefone_fixo = None\n",
        "telefone_fixo = ''\n",
        "\n",
        "print(bool(idade))\n",
        "print(bool(tipo_sangue))\n",
        "print(bool(filhos))\n",
        "print(bool(telefone_fixo))\n",
        "print(bool(telefone_fixo))"
      ],
      "metadata": {
        "colab": {
          "base_uri": "https://localhost:8080/"
        },
        "id": "0IM4BIdIZuor",
        "outputId": "b7b59da1-99d4-49fd-e094-8bdf7c56ef79"
      },
      "execution_count": 14,
      "outputs": [
        {
          "output_type": "stream",
          "name": "stdout",
          "text": [
            "True\n",
            "True\n",
            "False\n",
            "False\n",
            "False\n"
          ]
        }
      ]
    },
    {
      "cell_type": "code",
      "source": [
        "usuario = 'diego.bev'\n",
        "senha = 'diego123'\n",
        "\n",
        "usuario_cadastro = 'diego.bev'\n",
        "senha_cadastro = 'diego321'"
      ],
      "metadata": {
        "id": "DjX7PkiobYCF"
      },
      "execution_count": 20,
      "outputs": []
    },
    {
      "cell_type": "code",
      "source": [
        "usuario_igual = usuario == usuario_cadastro\n",
        "senha_igual = senha == senha_cadastro\n",
        "\n",
        "print(usuario_igual)\n",
        "print(senha_igual)"
      ],
      "metadata": {
        "colab": {
          "base_uri": "https://localhost:8080/"
        },
        "id": "UDmaQ61Xaef1",
        "outputId": "9c4ee33c-b9e6-4da8-9775-874fceaa2056"
      },
      "execution_count": 21,
      "outputs": [
        {
          "output_type": "stream",
          "name": "stdout",
          "text": [
            "True\n",
            "False\n"
          ]
        }
      ]
    },
    {
      "cell_type": "code",
      "source": [
        "conceder_acesso = usuario_igual & senha_igual\n",
        "\n",
        "print(conceder_acesso)"
      ],
      "metadata": {
        "colab": {
          "base_uri": "https://localhost:8080/"
        },
        "id": "x4X7nzHDb30I",
        "outputId": "dc267236-930b-4095-a2f0-f702acc44e5f"
      },
      "execution_count": 28,
      "outputs": [
        {
          "output_type": "stream",
          "name": "stdout",
          "text": [
            "False\n"
          ]
        }
      ]
    },
    {
      "cell_type": "code",
      "source": [],
      "metadata": {
        "id": "tJ0BkVAfuEdn"
      },
      "execution_count": null,
      "outputs": []
    }
  ]
}