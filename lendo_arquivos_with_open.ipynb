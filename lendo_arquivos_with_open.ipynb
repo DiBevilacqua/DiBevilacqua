{
  "nbformat": 4,
  "nbformat_minor": 0,
  "metadata": {
    "colab": {
      "provenance": [],
      "authorship_tag": "ABX9TyPC6eC7k0wb/y5w8XcQlNBN",
      "include_colab_link": true
    },
    "kernelspec": {
      "name": "python3",
      "display_name": "Python 3"
    },
    "language_info": {
      "name": "python"
    }
  },
  "cells": [
    {
      "cell_type": "markdown",
      "metadata": {
        "id": "view-in-github",
        "colab_type": "text"
      },
      "source": [
        "<a href=\"https://colab.research.google.com/github/DiBevilacqua/DiBevilacqua/blob/main/lendo_arquivos_with_open.ipynb\" target=\"_parent\"><img src=\"https://colab.research.google.com/assets/colab-badge.svg\" alt=\"Open In Colab\"/></a>"
      ]
    },
    {
      "cell_type": "markdown",
      "source": [
        "topicos Leitura.1. Configuração inicial Vamos utilizar uma função do Google Colabpara criar arquivos para esse módulo. Nota: esse código não é do Python e sim da ferramenta.\n",
        "\n",
        "Arquivo CSV: banco.csv"
      ],
      "metadata": {
        "id": "5mf4gCFo7JTD"
      }
    },
    {
      "cell_type": "code",
      "execution_count": 3,
      "metadata": {
        "colab": {
          "base_uri": "https://localhost:8080/"
        },
        "id": "YVqR0bQT6IU1",
        "outputId": "fc263535-e42c-4512-b6b2-c85425014870"
      },
      "outputs": [
        {
          "output_type": "stream",
          "name": "stdout",
          "text": [
            "Writing banco.csv\n"
          ]
        }
      ],
      "source": [
        "%%writefile banco.csv\n",
        "age,job,marital,education,default,balance,housing,loan\n",
        "30,unemployed,married,primary,no,1787,no,no\n",
        "33,services,married,secondary,no,4789,yes,yes\n",
        "35,management,single,tertiary,no,1350,yes,no\n",
        "30,management,married,tertiary,no,1476,yes,yes\n",
        "59,blue-collar,married,secondary,no,0,yes,no\n",
        "35,management,single,tertiary,no,747,no,no\n",
        "36,self-employed,married,tertiary,no,307,yes,no\n",
        "39,technician,married,secondary,no,147,yes,no\n",
        "41,entrepreneur,married,tertiary,no,221,yes,no\n",
        "43,services,married,primary,no,-88,yes,yes"
      ]
    },
    {
      "cell_type": "code",
      "source": [
        "# with open(file='<caminho do arquivo', mode='<modo de leitura>', encoding='<decodificador>') as <apelido>:\n",
        "\n",
        "#read\n",
        "\n",
        "conteudo = None\n",
        "\n",
        "with open(file='./banco.csv' , mode='r' , encoding='utf8') as arquivo:\n",
        "  conteudo = arquivo.read()\n",
        "\n",
        "print(conteudo)"
      ],
      "metadata": {
        "colab": {
          "base_uri": "https://localhost:8080/"
        },
        "id": "Pkh9DEe68uIM",
        "outputId": "a8840f3c-9bb5-41aa-ceff-5fcd43abb1e8"
      },
      "execution_count": 6,
      "outputs": [
        {
          "output_type": "stream",
          "name": "stdout",
          "text": [
            "age,job,marital,education,default,balance,housing,loan \n",
            "30,unemployed,married,primary,no,1787,no,no \n",
            "33,services,married,secondary,no,4789,yes,yes \n",
            "35,management,single,tertiary,no,1350,yes,no \n",
            "30,management,married,tertiary,no,1476,yes,yes \n",
            "59,blue-collar,married,secondary,no,0,yes,no \n",
            "35,management,single,tertiary,no,747,no,no \n",
            "36,self-employed,married,tertiary,no,307,yes,no \n",
            "39,technician,married,secondary,no,147,yes,no \n",
            "41,entrepreneur,married,tertiary,no,221,yes,no \n",
            "43,services,married,primary,no,-88,yes,yes\n",
            "\n"
          ]
        }
      ]
    },
    {
      "cell_type": "code",
      "source": [
        "conteudo = []\n",
        "\n",
        "with open(file='./banco.csv' , mode='r' , encoding='utf8') as arquivo:\n",
        "  linha = arquivo.readline()\n",
        "  while linha:\n",
        "    conteudo.append(linha)\n",
        "    linha = arquivo.readline()\n",
        "print(conteudo)\n",
        "\n"
      ],
      "metadata": {
        "colab": {
          "base_uri": "https://localhost:8080/"
        },
        "id": "Zh6kbNRc_sgB",
        "outputId": "89607975-d46e-4015-a4e8-7bd322f2b7a5"
      },
      "execution_count": 11,
      "outputs": [
        {
          "output_type": "stream",
          "name": "stdout",
          "text": [
            "['age,job,marital,education,default,balance,housing,loan \\n', '30,unemployed,married,primary,no,1787,no,no \\n', '33,services,married,secondary,no,4789,yes,yes \\n', '35,management,single,tertiary,no,1350,yes,no \\n', '30,management,married,tertiary,no,1476,yes,yes \\n', '59,blue-collar,married,secondary,no,0,yes,no \\n', '35,management,single,tertiary,no,747,no,no \\n', '36,self-employed,married,tertiary,no,307,yes,no \\n', '39,technician,married,secondary,no,147,yes,no \\n', '41,entrepreneur,married,tertiary,no,221,yes,no \\n', '43,services,married,primary,no,-88,yes,yes\\n']\n"
          ]
        }
      ]
    },
    {
      "cell_type": "code",
      "source": [
        "for linha in conteudo:\n",
        "  print(linha)"
      ],
      "metadata": {
        "colab": {
          "base_uri": "https://localhost:8080/"
        },
        "id": "fhuH1DLuAjjJ",
        "outputId": "0f6a5748-923b-4f73-9557-733e8920dadb"
      },
      "execution_count": 12,
      "outputs": [
        {
          "output_type": "stream",
          "name": "stdout",
          "text": [
            "age,job,marital,education,default,balance,housing,loan \n",
            "\n",
            "30,unemployed,married,primary,no,1787,no,no \n",
            "\n",
            "33,services,married,secondary,no,4789,yes,yes \n",
            "\n",
            "35,management,single,tertiary,no,1350,yes,no \n",
            "\n",
            "30,management,married,tertiary,no,1476,yes,yes \n",
            "\n",
            "59,blue-collar,married,secondary,no,0,yes,no \n",
            "\n",
            "35,management,single,tertiary,no,747,no,no \n",
            "\n",
            "36,self-employed,married,tertiary,no,307,yes,no \n",
            "\n",
            "39,technician,married,secondary,no,147,yes,no \n",
            "\n",
            "41,entrepreneur,married,tertiary,no,221,yes,no \n",
            "\n",
            "43,services,married,primary,no,-88,yes,yes\n",
            "\n"
          ]
        }
      ]
    },
    {
      "cell_type": "code",
      "source": [
        "idades = []\n",
        "\n",
        "with open(file='./banco.csv' , mode='r' , encoding='utf8') as arquivo:\n",
        "  linha = arquivo.readline()\n",
        "  linha = arquivo.readline()\n",
        "  while linha:\n",
        "    linha_separada = linha.split(sep=',')\n",
        "    idade = linha_separada[0]\n",
        "    idade = int(idade)\n",
        "    idades.append(idade)\n",
        "    linha = arquivo.readline()\n",
        "\n",
        "print(idades)\n"
      ],
      "metadata": {
        "colab": {
          "base_uri": "https://localhost:8080/"
        },
        "id": "5zR2tXRIA6f2",
        "outputId": "84044aba-3fad-447b-f618-10f2f5157c3d"
      },
      "execution_count": 15,
      "outputs": [
        {
          "output_type": "stream",
          "name": "stdout",
          "text": [
            "[30, 33, 35, 30, 59, 35, 36, 39, 41, 43]\n"
          ]
        }
      ]
    }
  ]
}