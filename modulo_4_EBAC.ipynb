{
  "nbformat": 4,
  "nbformat_minor": 0,
  "metadata": {
    "colab": {
      "provenance": [],
      "authorship_tag": "ABX9TyNq9Ee/PeF+hBQxqFjDTdUg",
      "include_colab_link": true
    },
    "kernelspec": {
      "name": "python3",
      "display_name": "Python 3"
    },
    "language_info": {
      "name": "python"
    }
  },
  "cells": [
    {
      "cell_type": "markdown",
      "metadata": {
        "id": "view-in-github",
        "colab_type": "text"
      },
      "source": [
        "<a href=\"https://colab.research.google.com/github/DiBevilacqua/DiBevilacqua/blob/main/modulo_4_EBAC.ipynb\" target=\"_parent\"><img src=\"https://colab.research.google.com/assets/colab-badge.svg\" alt=\"Open In Colab\"/></a>"
      ]
    },
    {
      "cell_type": "code",
      "execution_count": 2,
      "metadata": {
        "colab": {
          "base_uri": "https://localhost:8080/"
        },
        "id": "BXfHRfKQvVOu",
        "outputId": "5ebebbc6-f5cd-43ed-f400-b335df425489"
      },
      "outputs": [
        {
          "output_type": "stream",
          "name": "stdout",
          "text": [
            "para um valor inicial de r$1000.0 e uma taxa de juros anul de 0.05, em 10 anos voce tera r$1628.89\n",
            "para um valor inicial de r$1020.0 e uma taxa de juros anul de 0.03, em 10 anos voce tera r$1370.79\n"
          ]
        }
      ],
      "source": [
        "valor_inicial, taxa_de_juros, anos = 1000.00, 0.05, 10\n",
        "\n",
        "valor_final = valor_inicial\n",
        "for ano in range(1, anos+1):\n",
        "  valor_final = valor_final * (1 + taxa_de_juros)\n",
        "valor_final = round(valor_final, 2)\n",
        "print(f'para um valor inicial de r${valor_inicial} e uma taxa de juros anul de {taxa_de_juros}, em {anos} anos voce tera r${valor_final}')\n",
        "\n",
        "valor_inicial, taxa_de_juros, anos = 1020.00, 0.03, 10\n",
        "\n",
        "valor_final = valor_inicial\n",
        "for ano in range(1, anos+1):\n",
        "  valor_final = valor_final * (1 + taxa_de_juros)\n",
        "valor_final = round(valor_final, 2)\n",
        "print(f'para um valor inicial de r${valor_inicial} e uma taxa de juros anul de {taxa_de_juros}, em {anos} anos voce tera r${valor_final}')\n",
        "\n",
        "\n",
        "\n",
        "\n"
      ]
    },
    {
      "cell_type": "code",
      "source": [
        "def imprime(mensagem: str):\n",
        "  print(mensagem)\n",
        "texto = 'fala pessoal, meu nome e Diego bevilacqua'\n",
        "\n",
        "imprime(mensagem=texto)"
      ],
      "metadata": {
        "colab": {
          "base_uri": "https://localhost:8080/"
        },
        "id": "pbXVFK0pzB4A",
        "outputId": "b71e7586-0335-4960-ff40-d711ed96ad1b"
      },
      "execution_count": 4,
      "outputs": [
        {
          "output_type": "stream",
          "name": "stdout",
          "text": [
            "fala pessoal, meu nome e Diego bevilacqua\n"
          ]
        }
      ]
    },
    {
      "cell_type": "markdown",
      "source": [
        "Toda função retorna pelo menos um valor, se nao especificado, retorna o valor nulo"
      ],
      "metadata": {
        "id": "XQeIK9LfziQo"
      }
    },
    {
      "cell_type": "code",
      "source": [
        "def maisculo(texto: str) -> str:\n",
        "  texto_maisculo = texto.upper()\n",
        "  return texto_maisculo\n",
        "\n",
        "nome = 'Diego bevilacqua'\n",
        "print(nome)\n",
        "\n",
        "nome_maisculo = maisculo(texto=nome)\n",
        "print(nome_maisculo)"
      ],
      "metadata": {
        "colab": {
          "base_uri": "https://localhost:8080/"
        },
        "id": "9HpfYy6rzqoA",
        "outputId": "83ee1787-8949-48fe-efd3-b5038d224577"
      },
      "execution_count": 7,
      "outputs": [
        {
          "output_type": "stream",
          "name": "stdout",
          "text": [
            "Diego bevilacqua\n",
            "DIEGO BEVILACQUA\n"
          ]
        }
      ]
    },
    {
      "cell_type": "code",
      "source": [
        "def extrair_usuario_email_provedor(email: str) -> (str, str):\n",
        "  email_separado = email.split(sep='@')\n",
        "  usuario = email_separado[0]\n",
        "  provedor = email_separado [1]\n",
        "  return usuario, provedor\n",
        "\n",
        "email ='dih_bevilacqua@hotmail.com'\n",
        "usuario, provedor = extrair_usuario_email_provedor(email=email)\n",
        "print(usuario)\n",
        "print(provedor)\n"
      ],
      "metadata": {
        "colab": {
          "base_uri": "https://localhost:8080/"
        },
        "id": "5s_Y1uKG0dCB",
        "outputId": "faa43589-0650-438b-9bfb-8266e23caa81"
      },
      "execution_count": 9,
      "outputs": [
        {
          "output_type": "stream",
          "name": "stdout",
          "text": [
            "dih_bevilacqua\n",
            "hotmail.com\n"
          ]
        }
      ]
    },
    {
      "cell_type": "code",
      "source": [
        "def pi() -> float:\n",
        "  return 3.14159265359\n",
        "\n",
        "pi = pi()\n",
        "print(pi)\n"
      ],
      "metadata": {
        "colab": {
          "base_uri": "https://localhost:8080/"
        },
        "id": "y4aFepyO1yBI",
        "outputId": "6ca1eff2-3415-4dbe-8059-03eacc7cff6d"
      },
      "execution_count": 11,
      "outputs": [
        {
          "output_type": "stream",
          "name": "stdout",
          "text": [
            "3.14159265359\n"
          ]
        }
      ]
    },
    {
      "cell_type": "markdown",
      "source": [
        "Escopo: definição de função"
      ],
      "metadata": {
        "id": "99htv-cyhUfo"
      }
    },
    {
      "cell_type": "code",
      "source": [
        "def soma_lista(numeros: list) -> int:\n",
        "  s = 0\n",
        "  for numero in numeros:\n",
        "    s = s + numero\n",
        "  return s\n",
        "\n",
        "soma = soma_lista(numeros=[1] * 10)\n",
        "print(soma)"
      ],
      "metadata": {
        "colab": {
          "base_uri": "https://localhost:8080/"
        },
        "id": "PIpQQPWXhHl3",
        "outputId": "3b7e901c-e1bd-419b-e733-137caa234552"
      },
      "execution_count": 5,
      "outputs": [
        {
          "output_type": "stream",
          "name": "stdout",
          "text": [
            "10\n"
          ]
        }
      ]
    },
    {
      "cell_type": "code",
      "source": [
        "if True:\n",
        "  x = 100\n",
        "else:\n",
        "  w = 50\n",
        "\n",
        "print(x)"
      ],
      "metadata": {
        "colab": {
          "base_uri": "https://localhost:8080/"
        },
        "id": "ko7LHwhSie21",
        "outputId": "703a00dd-c0a4-4ec8-d10d-65e088fdb234"
      },
      "execution_count": 9,
      "outputs": [
        {
          "output_type": "stream",
          "name": "stdout",
          "text": [
            "100\n"
          ]
        }
      ]
    }
  ]
}